{
 "cells": [
  {
   "cell_type": "markdown",
   "metadata": {},
   "source": [
    "# PERFORMING OCR WITH SVMs"
   ]
  },
  {
   "cell_type": "markdown",
   "metadata": {},
   "source": [
    "Rosa Karina Torres Calderon"
   ]
  },
  {
   "cell_type": "code",
   "execution_count": 4,
   "metadata": {},
   "outputs": [],
   "source": [
    "import pandas as pd\n",
    "import numpy as np\n",
    "from sklearn.svm import SVC \n",
    "from sklearn import metrics"
   ]
  },
  {
   "cell_type": "markdown",
   "metadata": {},
   "source": [
    "Functions"
   ]
  },
  {
   "cell_type": "code",
   "execution_count": 12,
   "metadata": {},
   "outputs": [],
   "source": [
    "def measure_performance(X,y,clf, show_accuracy=True,\n",
    "show_classification_report=True, show_confusion_matrix=True):\n",
    "    y_pred=clf.predict(X)\n",
    "    if show_accuracy:\n",
    "        print(\"Accuracy:{0:.3f}\".format(metrics.accuracy_score(y, y_pred)),\"\\n\")\n",
    "    if show_classification_report:\n",
    "        print(\"Classification report\")\n",
    "        print(metrics.classification_report(y,y_pred),\"\\n\")\n",
    "    if show_confusion_matrix:\n",
    "        print('Matriz de confusión')\n",
    "        print('')\n",
    "        print(pd.crosstab(y, y_pred, rownames = ['True'], colnames = ['Predicted'], margins = True))"
   ]
  },
  {
   "cell_type": "code",
   "execution_count": 16,
   "metadata": {},
   "outputs": [],
   "source": [
    "def count_values_classification(y_pred,y,size):\n",
    "    true_values = 0\n",
    "    false_values = 0\n",
    "    for i in range(0,size):\n",
    "        if y.iloc[i] == y_pred[i]:\n",
    "          true_values  = true_values+1\n",
    "        else:\n",
    "            false_values = false_values+1 \n",
    "        #print('Dato orginal: ' + y.iloc[i] + ' Dato predecido: ' + str(y_pred[i]))\n",
    "    val = [true_values, false_values]\n",
    "    return val"
   ]
  },
  {
   "cell_type": "markdown",
   "metadata": {},
   "source": [
    "# Step 1- Reading the data set"
   ]
  },
  {
   "cell_type": "code",
   "execution_count": 5,
   "metadata": {},
   "outputs": [
    {
     "name": "stdout",
     "output_type": "stream",
     "text": [
      "  letter  xbox  ybox  width  height  onpix  xbar  ybar  x2bar  y2bar  xybar  \\\n",
      "0      T     2     8      3       5      1     8    13      0      6      6   \n",
      "1      I     5    12      3       7      2    10     5      5      4     13   \n",
      "2      D     4    11      6       8      6    10     6      2      6     10   \n",
      "3      N     7    11      6       6      3     5     9      4      6      4   \n",
      "4      G     2     1      3       1      1     8     6      6      6      6   \n",
      "\n",
      "   x2ybar  xy2bar  xedge  xedgey  yedge  yedgex  \n",
      "0      10       8      0       8      0       8  \n",
      "1       3       9      2       8      4      10  \n",
      "2       3       7      3       7      3       9  \n",
      "3       4      10      6      10      2       8  \n",
      "4       5       9      1       7      5      10  \n",
      " \n",
      "Tamaño del data frame: (20000, 17)\n"
     ]
    }
   ],
   "source": [
    "letterdata = pd.read_csv(\"letterdata.csv\")\n",
    "print(letterdata.head(5))\n",
    "print(\" \")\n",
    "print('Tamaño del data frame: ' + str(letterdata.shape))"
   ]
  },
  {
   "cell_type": "markdown",
   "metadata": {},
   "source": [
    "# Step 2- Exploring and preparing the data"
   ]
  },
  {
   "cell_type": "code",
   "execution_count": 6,
   "metadata": {},
   "outputs": [
    {
     "name": "stdout",
     "output_type": "stream",
     "text": [
      "letter    object\n",
      "xbox       int64\n",
      "ybox       int64\n",
      "width      int64\n",
      "height     int64\n",
      "onpix      int64\n",
      "xbar       int64\n",
      "ybar       int64\n",
      "x2bar      int64\n",
      "y2bar      int64\n",
      "xybar      int64\n",
      "x2ybar     int64\n",
      "xy2bar     int64\n",
      "xedge      int64\n",
      "xedgey     int64\n",
      "yedge      int64\n",
      "yedgex     int64\n",
      "dtype: object\n"
     ]
    }
   ],
   "source": [
    "print(letterdata.dtypes)"
   ]
  },
  {
   "cell_type": "code",
   "execution_count": 15,
   "metadata": {},
   "outputs": [
    {
     "name": "stdout",
     "output_type": "stream",
     "text": [
      "Número de letras: (26,)\n"
     ]
    }
   ],
   "source": [
    "print('Número de letras: ' + str(letterdata.letter.value_counts().shape))"
   ]
  },
  {
   "cell_type": "code",
   "execution_count": 7,
   "metadata": {},
   "outputs": [],
   "source": [
    "# Split data set in target and the rest of the features \n",
    "letterdata_target = letterdata.iloc[:,0]\n",
    "letterdata_train = letterdata.iloc[:,1:]"
   ]
  },
  {
   "cell_type": "code",
   "execution_count": 8,
   "metadata": {},
   "outputs": [],
   "source": [
    "# Split the data set in train ant test sets\n",
    "X_train = letterdata_train.iloc[:16000,:]\n",
    "X_test = letterdata_train.iloc[16000:,:]\n",
    "y_train = letterdata_target.iloc[:16000]\n",
    "y_test = letterdata_target.iloc[16000:]"
   ]
  },
  {
   "cell_type": "markdown",
   "metadata": {},
   "source": [
    "# Step 3- Training a Model on the data"
   ]
  },
  {
   "cell_type": "code",
   "execution_count": 9,
   "metadata": {},
   "outputs": [
    {
     "data": {
      "text/plain": [
       "SVC(C=1.0, cache_size=200, class_weight=None, coef0=0.0,\n",
       "  decision_function_shape='ovr', degree=3, gamma='auto_deprecated',\n",
       "  kernel='linear', max_iter=-1, probability=False, random_state=None,\n",
       "  shrinking=True, tol=0.001, verbose=False)"
      ]
     },
     "execution_count": 9,
     "metadata": {},
     "output_type": "execute_result"
    }
   ],
   "source": [
    "# Training the model with linear kernel\n",
    "model = SVC(kernel='linear')\n",
    "model.fit(X_train, y_train)"
   ]
  },
  {
   "cell_type": "markdown",
   "metadata": {},
   "source": [
    "# Step 4- Evaluating model performance"
   ]
  },
  {
   "cell_type": "code",
   "execution_count": 13,
   "metadata": {},
   "outputs": [
    {
     "name": "stdout",
     "output_type": "stream",
     "text": [
      "Accuracy:0.875 \n",
      "\n",
      "Classification report\n",
      "              precision    recall  f1-score   support\n",
      "\n",
      "           A       0.94      0.97      0.96       633\n",
      "           B       0.81      0.89      0.85       630\n",
      "           C       0.89      0.90      0.89       594\n",
      "           D       0.81      0.91      0.86       638\n",
      "           E       0.84      0.86      0.85       616\n",
      "           F       0.84      0.90      0.87       622\n",
      "           G       0.75      0.79      0.77       609\n",
      "           H       0.71      0.69      0.70       583\n",
      "           I       0.91      0.88      0.90       590\n",
      "           J       0.90      0.89      0.89       599\n",
      "           K       0.83      0.86      0.85       593\n",
      "           L       0.93      0.89      0.91       604\n",
      "           M       0.94      0.94      0.94       648\n",
      "           N       0.96      0.93      0.94       617\n",
      "           O       0.88      0.79      0.84       614\n",
      "           P       0.95      0.88      0.91       635\n",
      "           Q       0.88      0.82      0.85       615\n",
      "           R       0.79      0.83      0.81       597\n",
      "           S       0.72      0.72      0.72       587\n",
      "           T       0.92      0.89      0.91       645\n",
      "           U       0.94      0.94      0.94       645\n",
      "           V       0.93      0.93      0.93       628\n",
      "           W       0.94      0.94      0.94       613\n",
      "           X       0.92      0.89      0.91       628\n",
      "           Y       0.94      0.92      0.93       641\n",
      "           Z       0.88      0.83      0.86       576\n",
      "\n",
      "   micro avg       0.87      0.87      0.87     16000\n",
      "   macro avg       0.88      0.87      0.87     16000\n",
      "weighted avg       0.88      0.87      0.87     16000\n",
      " \n",
      "\n",
      "Matriz de confusión\n",
      "\n",
      "Predicted    A    B    C    D    E    F    G    H    I    J  ...    R    S  \\\n",
      "True                                                         ...             \n",
      "A          616    1    0    0    0    0    0    0    0    5  ...    2    0   \n",
      "B            0  560    0    7    4    0    7   12    3    1  ...   19    7   \n",
      "C            2    0  532    0   15    1   10    3    0    0  ...    0    0   \n",
      "D            0   24    0  583    0    0    1    7    1    1  ...    6    1   \n",
      "E            0    4    7    0  532    3   26    0    1    0  ...    3   15   \n",
      "F            0    1    2    4    3  559    6    2    1    4  ...    0    7   \n",
      "G            0    1   26   11    6    4  481    4    0    0  ...    7   10   \n",
      "H            0   15    6   37    1    7    6  401    0    3  ...   39    0   \n",
      "I            0    2    1    8    1   12    1    0  520   21  ...    0   10   \n",
      "J            6    0    0    7    0    4    0    3   26  534  ...    1   10   \n",
      "K            0    5    5    7    2    0    1    5    0    0  ...   32    0   \n",
      "L            0    0    7    3   16    0   13    6    1    0  ...    1    6   \n",
      "M            3    5    0    1    0    0    1    6    0    0  ...    8    0   \n",
      "N            1    1    1   10    0    0    0   16    0    0  ...    2    0   \n",
      "O            7    0    7   19    0    0    4   46    0    1  ...    6    0   \n",
      "P            0    0    0    2    0   36   17    2    0    0  ...    0    0   \n",
      "Q            5    6    1    1   10    0   26    7    0    2  ...    0   31   \n",
      "R            5   25    0   11    1    0    7   15    0    0  ...  495    0   \n",
      "S            1   28    0    1   19   13   17    0   10    1  ...    4  423   \n",
      "T            0    1    0    2    7   10    4    5    0    0  ...    0    6   \n",
      "U            2    0    3    1    0    0    0    8    0    0  ...    0    0   \n",
      "V            1   12    0    0    0    0    5    7    0    0  ...    2    0   \n",
      "W            0    1    0    0    0    0    2    4    0    0  ...    1    0   \n",
      "X            0    2    0    6    7    2    4    1    8    3  ...    2    3   \n",
      "Y            2    0    0    0    0   11    0    2    0    0  ...    0    1   \n",
      "Z            2    0    0    0    9    2    0    0    1   20  ...    0   54   \n",
      "All        653  694  598  721  633  664  639  562  572  596  ...  630  584   \n",
      "\n",
      "Predicted    T    U    V    W    X    Y    Z    All  \n",
      "True                                                 \n",
      "A            0    2    0    0    0    3    0    633  \n",
      "B            0    0    2    0    1    0    0    630  \n",
      "C            0    2    0    0    0    0    0    594  \n",
      "D            0    4    0    0    0    0    0    638  \n",
      "E            7    0    0    0    4    0    1    616  \n",
      "F           12    0    1    0    0    4    1    622  \n",
      "G            0    2   11    2    1    0    0    609  \n",
      "H            1    7    1    1    3    2    0    583  \n",
      "I            0    0    0    0    7    1    4    590  \n",
      "J            0    0    0    0    0    0    6    599  \n",
      "K            0    1    2    0   16    0    0    593  \n",
      "L            0    0    0    0    2    0    0    604  \n",
      "M            0    6    0    6    0    0    0    648  \n",
      "N            0    2    3    0    0    0    0    617  \n",
      "O            1    5    0   15    0    0    0    614  \n",
      "P            0    0    3    0    0    8    0    635  \n",
      "Q            0    0    0    2    0    2    2    615  \n",
      "R            2    0    2    1    3    0    0    597  \n",
      "S            4    0    0    0    4    1   39    587  \n",
      "T          576    1    0    0    4   10   10    645  \n",
      "U            2  608    1    1    0    0    0    645  \n",
      "V            0    0  582    8    0    6    0    628  \n",
      "W            0    3    3  579    0    0    0    613  \n",
      "X            7    1    0    0  560    2    2    628  \n",
      "Y           10    1   15    2    1  591    0    641  \n",
      "Z            4    0    0    0    1    0  480    576  \n",
      "All        626  645  626  617  607  630  545  16000  \n",
      "\n",
      "[27 rows x 27 columns]\n"
     ]
    }
   ],
   "source": [
    "measure_performance(X_train,y_train,model,show_accuracy=True,show_classification_report=True, show_confusion_matrix=True)"
   ]
  },
  {
   "cell_type": "code",
   "execution_count": 15,
   "metadata": {},
   "outputs": [
    {
     "name": "stdout",
     "output_type": "stream",
     "text": [
      "True values: 3356\n",
      "False values: 644\n"
     ]
    }
   ],
   "source": [
    "y_pred=model.predict(X_test)\n",
    "values = count_values_classification(y_pred,y_test,len(y_pred))\n",
    "print('True values: ' + str(values[0]))\n",
    "print('False values: ' + str(values[1]))"
   ]
  },
  {
   "cell_type": "markdown",
   "metadata": {},
   "source": [
    "# Step 5- Improving model performance"
   ]
  },
  {
   "cell_type": "code",
   "execution_count": 17,
   "metadata": {},
   "outputs": [
    {
     "name": "stderr",
     "output_type": "stream",
     "text": [
      "/Users/karinatorres/anaconda3/envs/MachineLearning/lib/python3.6/site-packages/sklearn/svm/base.py:196: FutureWarning: The default value of gamma will change from 'auto' to 'scale' in version 0.22 to account better for unscaled features. Set gamma explicitly to 'auto' or 'scale' to avoid this warning.\n",
      "  \"avoid this warning.\", FutureWarning)\n"
     ]
    },
    {
     "data": {
      "text/plain": [
       "SVC(C=1.0, cache_size=200, class_weight=None, coef0=0.0,\n",
       "  decision_function_shape='ovr', degree=3, gamma='auto_deprecated',\n",
       "  kernel='rbf', max_iter=-1, probability=False, random_state=None,\n",
       "  shrinking=True, tol=0.001, verbose=False)"
      ]
     },
     "execution_count": 17,
     "metadata": {},
     "output_type": "execute_result"
    }
   ],
   "source": [
    "# Training the model with rbf kernel\n",
    "model = SVC(kernel='rbf')\n",
    "model.fit(X_train, y_train)"
   ]
  },
  {
   "cell_type": "code",
   "execution_count": 18,
   "metadata": {},
   "outputs": [
    {
     "name": "stdout",
     "output_type": "stream",
     "text": [
      "Accuracy:0.994 \n",
      "\n",
      "Classification report\n",
      "              precision    recall  f1-score   support\n",
      "\n",
      "           A       1.00      1.00      1.00       633\n",
      "           B       0.98      0.99      0.99       630\n",
      "           C       1.00      0.99      1.00       594\n",
      "           D       0.99      1.00      0.99       638\n",
      "           E       0.99      1.00      0.99       616\n",
      "           F       0.99      1.00      0.99       622\n",
      "           G       0.99      0.99      0.99       609\n",
      "           H       0.99      0.98      0.99       583\n",
      "           I       1.00      0.97      0.98       590\n",
      "           J       0.97      0.99      0.98       599\n",
      "           K       1.00      0.99      0.99       593\n",
      "           L       1.00      1.00      1.00       604\n",
      "           M       1.00      1.00      1.00       648\n",
      "           N       1.00      0.99      1.00       617\n",
      "           O       0.99      1.00      1.00       614\n",
      "           P       1.00      0.99      0.99       635\n",
      "           Q       0.99      1.00      1.00       615\n",
      "           R       0.98      0.99      0.98       597\n",
      "           S       1.00      1.00      1.00       587\n",
      "           T       1.00      1.00      1.00       645\n",
      "           U       1.00      1.00      1.00       645\n",
      "           V       1.00      0.99      0.99       628\n",
      "           W       1.00      1.00      1.00       613\n",
      "           X       0.99      1.00      1.00       628\n",
      "           Y       1.00      1.00      1.00       641\n",
      "           Z       1.00      1.00      1.00       576\n",
      "\n",
      "   micro avg       0.99      0.99      0.99     16000\n",
      "   macro avg       0.99      0.99      0.99     16000\n",
      "weighted avg       0.99      0.99      0.99     16000\n",
      " \n",
      "\n",
      "Matriz de confusión\n",
      "\n",
      "Predicted    A    B    C    D    E    F    G    H    I    J  ...    R    S  \\\n",
      "True                                                         ...             \n",
      "A          633    0    0    0    0    0    0    0    0    0  ...    0    0   \n",
      "B            0  626    0    0    1    0    0    0    0    0  ...    2    0   \n",
      "C            0    0  590    0    0    0    1    0    0    0  ...    0    0   \n",
      "D            0    0    0  636    0    0    0    2    0    0  ...    0    0   \n",
      "E            0    0    0    0  613    0    3    0    0    0  ...    0    0   \n",
      "F            0    0    0    0    0  621    0    0    0    0  ...    0    0   \n",
      "G            0    0    0    2    1    0  604    0    0    0  ...    0    0   \n",
      "H            0    0    0    5    0    0    0  571    0    0  ...    5    0   \n",
      "I            0    0    0    0    0    0    0    0  573   16  ...    0    0   \n",
      "J            0    0    0    1    0    0    0    0    2  596  ...    0    0   \n",
      "K            0    0    0    0    0    0    0    0    0    0  ...    4    0   \n",
      "L            0    0    0    0    1    0    1    0    0    0  ...    0    0   \n",
      "M            0    1    0    0    0    0    0    0    0    0  ...    0    0   \n",
      "N            0    0    0    1    0    0    0    2    0    0  ...    0    0   \n",
      "O            0    0    1    0    0    0    0    0    0    0  ...    0    0   \n",
      "P            0    0    0    0    0    5    1    0    0    0  ...    0    0   \n",
      "Q            0    0    0    0    0    0    0    0    0    0  ...    0    0   \n",
      "R            0    5    0    0    0    0    0    1    0    0  ...  590    0   \n",
      "S            0    0    0    0    1    0    0    0    0    0  ...    0  586   \n",
      "T            0    0    0    0    0    0    0    0    0    0  ...    0    0   \n",
      "U            0    0    0    0    0    0    0    0    0    0  ...    0    0   \n",
      "V            0    6    0    0    0    1    0    0    0    0  ...    0    0   \n",
      "W            0    0    0    0    0    0    0    0    0    0  ...    0    0   \n",
      "X            0    0    0    0    0    0    0    0    0    0  ...    0    0   \n",
      "Y            0    0    0    0    0    0    0    0    0    0  ...    0    0   \n",
      "Z            0    0    0    0    0    0    0    0    0    0  ...    0    0   \n",
      "All        633  638  591  645  617  627  610  576  575  612  ...  601  586   \n",
      "\n",
      "Predicted    T    U    V    W    X    Y    Z    All  \n",
      "True                                                 \n",
      "A            0    0    0    0    0    0    0    633  \n",
      "B            0    1    0    0    0    0    0    630  \n",
      "C            0    0    0    0    0    0    0    594  \n",
      "D            0    0    0    0    0    0    0    638  \n",
      "E            0    0    0    0    0    0    0    616  \n",
      "F            0    0    0    0    0    0    0    622  \n",
      "G            0    0    1    1    0    0    0    609  \n",
      "H            0    1    0    0    0    0    0    583  \n",
      "I            0    0    0    0    1    0    0    590  \n",
      "J            0    0    0    0    0    0    0    599  \n",
      "K            0    0    0    0    1    0    0    593  \n",
      "L            0    0    0    0    1    0    0    604  \n",
      "M            0    0    0    0    0    0    0    648  \n",
      "N            0    0    0    0    0    0    0    617  \n",
      "O            0    0    0    0    0    0    0    614  \n",
      "P            0    0    0    0    0    0    0    635  \n",
      "Q            0    0    0    0    0    0    0    615  \n",
      "R            0    0    0    0    0    0    0    597  \n",
      "S            0    0    0    0    0    0    0    587  \n",
      "T          644    0    0    0    1    0    0    645  \n",
      "U            0  645    0    0    0    0    0    645  \n",
      "V            0    0  620    1    0    0    0    628  \n",
      "W            0    0    0  613    0    0    0    613  \n",
      "X            0    0    0    0  628    0    0    628  \n",
      "Y            0    1    0    0    0  640    0    641  \n",
      "Z            0    0    0    0    0    0  574    576  \n",
      "All        644  648  621  615  632  640  574  16000  \n",
      "\n",
      "[27 rows x 27 columns]\n"
     ]
    }
   ],
   "source": [
    "measure_performance(X_train,y_train,model,show_accuracy=True,show_classification_report=True, show_confusion_matrix=True)"
   ]
  },
  {
   "cell_type": "code",
   "execution_count": 19,
   "metadata": {},
   "outputs": [
    {
     "name": "stdout",
     "output_type": "stream",
     "text": [
      "True values: 3889\n",
      "False values: 111\n"
     ]
    }
   ],
   "source": [
    "y_pred=model.predict(X_test)\n",
    "values = count_values_classification(y_pred,y_test,len(y_pred))\n",
    "print('True values: ' + str(values[0]))\n",
    "print('False values: ' + str(values[1]))"
   ]
  }
 ],
 "metadata": {
  "kernelspec": {
   "display_name": "Python 3",
   "language": "python",
   "name": "python3"
  },
  "language_info": {
   "codemirror_mode": {
    "name": "ipython",
    "version": 3
   },
   "file_extension": ".py",
   "mimetype": "text/x-python",
   "name": "python",
   "nbconvert_exporter": "python",
   "pygments_lexer": "ipython3",
   "version": "3.6.8"
  }
 },
 "nbformat": 4,
 "nbformat_minor": 2
}
