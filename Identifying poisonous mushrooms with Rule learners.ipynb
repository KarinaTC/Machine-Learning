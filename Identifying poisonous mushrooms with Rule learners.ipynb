{
 "cells": [
  {
   "cell_type": "markdown",
   "metadata": {},
   "source": [
    "# IDENTIFYING POISONOUS MUSHROOMS WITH RULE LEARNERS"
   ]
  },
  {
   "cell_type": "markdown",
   "metadata": {},
   "source": [
    "Rosa Karina Torres Calderon"
   ]
  },
  {
   "cell_type": "code",
   "execution_count": 4,
   "metadata": {},
   "outputs": [],
   "source": [
    "import pandas as pd\n",
    "import numpy as np\n",
    "import weka.core.jvm as jvm\n",
    "import weka.core.converters as conv\n",
    "from weka.classifiers import Classifier, Evaluation\n",
    "from weka.core.classes import Random"
   ]
  },
  {
   "cell_type": "markdown",
   "metadata": {},
   "source": [
    "# Step 1- Reading the data set"
   ]
  },
  {
   "cell_type": "code",
   "execution_count": 5,
   "metadata": {},
   "outputs": [
    {
     "name": "stdout",
     "output_type": "stream",
     "text": [
      "  type cap_shape cap_surface cap_color bruises odor gill_attachment  \\\n",
      "0    p         x           s         n       t    p               f   \n",
      "1    e         x           s         y       t    a               f   \n",
      "2    e         b           s         w       t    l               f   \n",
      "3    p         x           y         w       t    p               f   \n",
      "4    e         x           s         g       f    n               f   \n",
      "\n",
      "  gill_spacing gill_size gill_color  ... stalk_surface_below_ring  \\\n",
      "0            c         n          k  ...                        s   \n",
      "1            c         b          k  ...                        s   \n",
      "2            c         b          n  ...                        s   \n",
      "3            c         n          n  ...                        s   \n",
      "4            w         b          k  ...                        s   \n",
      "\n",
      "  stalk_color_above_ring stalk_color_below_ring veil_type veil_color  \\\n",
      "0                      w                      w         p          w   \n",
      "1                      w                      w         p          w   \n",
      "2                      w                      w         p          w   \n",
      "3                      w                      w         p          w   \n",
      "4                      w                      w         p          w   \n",
      "\n",
      "  ring_number ring_type spore_print_color population habitat  \n",
      "0           o         p                 k          s       u  \n",
      "1           o         p                 n          n       g  \n",
      "2           o         p                 n          n       m  \n",
      "3           o         p                 k          s       u  \n",
      "4           o         e                 n          a       g  \n",
      "\n",
      "[5 rows x 23 columns]\n",
      " \n",
      "Tamaño del data frame: (8124, 23)\n"
     ]
    }
   ],
   "source": [
    "mushroom = pd.read_csv(\"mushrooms.csv\")\n",
    "print(mushroom.head(5))\n",
    "print(\" \")\n",
    "print('Tamaño del data frame: ' + str(mushroom.shape))"
   ]
  },
  {
   "cell_type": "markdown",
   "metadata": {},
   "source": [
    "# Step 2- Exploring and preparing the data"
   ]
  },
  {
   "cell_type": "code",
   "execution_count": 6,
   "metadata": {},
   "outputs": [
    {
     "name": "stdout",
     "output_type": "stream",
     "text": [
      "<class 'pandas.core.frame.DataFrame'>\n",
      "RangeIndex: 8124 entries, 0 to 8123\n",
      "Data columns (total 23 columns):\n",
      "type                        8124 non-null object\n",
      "cap_shape                   8124 non-null object\n",
      "cap_surface                 8124 non-null object\n",
      "cap_color                   8124 non-null object\n",
      "bruises                     8124 non-null object\n",
      "odor                        8124 non-null object\n",
      "gill_attachment             8124 non-null object\n",
      "gill_spacing                8124 non-null object\n",
      "gill_size                   8124 non-null object\n",
      "gill_color                  8124 non-null object\n",
      "stalk_shape                 8124 non-null object\n",
      "stalk_root                  8124 non-null object\n",
      "stalk_surface_above_ring    8124 non-null object\n",
      "stalk_surface_below_ring    8124 non-null object\n",
      "stalk_color_above_ring      8124 non-null object\n",
      "stalk_color_below_ring      8124 non-null object\n",
      "veil_type                   8124 non-null object\n",
      "veil_color                  8124 non-null object\n",
      "ring_number                 8124 non-null object\n",
      "ring_type                   8124 non-null object\n",
      "spore_print_color           8124 non-null object\n",
      "population                  8124 non-null object\n",
      "habitat                     8124 non-null object\n",
      "dtypes: object(23)\n",
      "memory usage: 1.4+ MB\n"
     ]
    }
   ],
   "source": [
    "mushroom.info()"
   ]
  },
  {
   "cell_type": "code",
   "execution_count": 7,
   "metadata": {},
   "outputs": [
    {
     "name": "stdout",
     "output_type": "stream",
     "text": [
      "p    8124\n",
      "Name: veil_type, dtype: int64\n"
     ]
    }
   ],
   "source": [
    "# Analyzing veil_type feature\n",
    "print(mushroom[\"veil_type\"].value_counts()) "
   ]
  },
  {
   "cell_type": "code",
   "execution_count": 8,
   "metadata": {},
   "outputs": [
    {
     "name": "stdout",
     "output_type": "stream",
     "text": [
      "Tamaño del data frame: (8124, 22)\n"
     ]
    }
   ],
   "source": [
    "# As all the examples in the data are classified as partial (p) we will delate the feature\n",
    "mushroom = mushroom.drop(['veil_type'],axis=1)\n",
    "print('Tamaño del data frame: ' + str(mushroom.shape))"
   ]
  },
  {
   "cell_type": "code",
   "execution_count": 9,
   "metadata": {},
   "outputs": [],
   "source": [
    "# Convert type feature values e-p  to edible-poisonous\n",
    "mushroom[\"type\"] = mushroom[\"type\"].map({\"e\": \"edible\", \"p\":\"poisonous\"})\n",
    "mushroom[\"type\"] = mushroom.type.astype(\"category\")"
   ]
  },
  {
   "cell_type": "code",
   "execution_count": 10,
   "metadata": {},
   "outputs": [
    {
     "name": "stdout",
     "output_type": "stream",
     "text": [
      "Número de tipos de hongos: \n",
      "edible       4208\n",
      "poisonous    3916\n",
      "Name: type, dtype: int64\n"
     ]
    }
   ],
   "source": [
    "# Visualize the distribution of the class variable in our dataset\n",
    "print(\"Número de tipos de hongos: \")\n",
    "print(mushroom[\"type\"].value_counts()) "
   ]
  },
  {
   "cell_type": "code",
   "execution_count": 11,
   "metadata": {},
   "outputs": [
    {
     "name": "stdout",
     "output_type": "stream",
     "text": [
      "Porcentaje hongos comestibles: 51.7971442639094 %\n",
      "Porcentaje hongos venenosos: 48.2028557360906 %\n"
     ]
    }
   ],
   "source": [
    "# Get percentage of edible and poisonous mushrooms\n",
    "percent = mushroom[\"type\"].value_counts(); \n",
    "edible = (percent[0]*100)/(percent[0]+percent[1])\n",
    "poisonous = (percent[1]*100)/(percent[0]+percent[1])\n",
    "print(\"Porcentaje hongos comestibles: \" + str(edible) + ' %')\n",
    "print(\"Porcentaje hongos venenosos: \" + str(poisonous) + ' %')"
   ]
  },
  {
   "cell_type": "code",
   "execution_count": 12,
   "metadata": {},
   "outputs": [],
   "source": [
    "#mushroom_target = mushroom.loc[:,'type']\n",
    "#mushroom = mushroom.drop('type', axis=1)"
   ]
  },
  {
   "cell_type": "markdown",
   "metadata": {},
   "source": [
    "# Step 3- Training a Model on the data"
   ]
  },
  {
   "cell_type": "markdown",
   "metadata": {},
   "source": [
    "For the purposes of this experiment, we will not split the dataset in train and test; we only want to find rules that accurately depict complete set of known mushrooms types"
   ]
  },
  {
   "cell_type": "code",
   "execution_count": 15,
   "metadata": {},
   "outputs": [
    {
     "name": "stderr",
     "output_type": "stream",
     "text": [
      "INFO:weka.core.jvm:JVM already running, call jvm.stop() first\n"
     ]
    },
    {
     "name": "stdout",
     "output_type": "stream",
     "text": [
      "\n",
      "Mushrooms R1\n",
      "odor:\n",
      "\tp\t-> p\n",
      "\ta\t-> e\n",
      "\tl\t-> e\n",
      "\tn\t-> e\n",
      "\tf\t-> p\n",
      "\tc\t-> p\n",
      "\ty\t-> p\n",
      "\ts\t-> p\n",
      "\tm\t-> p\n",
      "(8004/8124 instances correct)\n",
      "\n"
     ]
    }
   ],
   "source": [
    "# One Rule implementation\n",
    "jvm.start()\n",
    "data = conv.load_any_file(\"mushrooms.csv\")\n",
    "data.class_is_first()\n",
    "cname = \"weka.classifiers.rules.OneR\"\n",
    "cls = Classifier(classname=cname, options=None)\n",
    "cls.build_classifier(data)\n",
    "print('\\nMushrooms R1')\n",
    "print(cls)"
   ]
  },
  {
   "cell_type": "markdown",
   "metadata": {},
   "source": [
    "# Step 4- Evaluating model performance"
   ]
  },
  {
   "cell_type": "code",
   "execution_count": 16,
   "metadata": {},
   "outputs": [
    {
     "name": "stdout",
     "output_type": "stream",
     "text": [
      "=== Summary == \n",
      "Correctly Classified Instances        8004               98.5229 %\n",
      "Incorrectly Classified Instances       120                1.4771 %\n",
      "Kappa statistic                          0.9704\n",
      "Mean absolute error                      0.0148\n",
      "Root mean squared error                  0.1215\n",
      "Relative absolute error                  2.958  %\n",
      "Root relative squared error             24.323  %\n",
      "Total Number of Instances             8124     \n",
      "\n",
      "=== Confusion matrix ===\n",
      "    a    b   <-- classified as\n",
      " 3796  120 |    a = p\n",
      "    0 4208 |    b = e\n",
      "\n",
      "pctCorrect: 98.52289512555392\n",
      "incorrect: 120.0\n"
     ]
    }
   ],
   "source": [
    "evaluation = Evaluation(data)\n",
    "evaluation.crossvalidate_model(cls, data, 10, Random(42))  # 10-fold CV\n",
    "print(\"=== Summary ==\", evaluation.summary())\n",
    "print(evaluation.matrix(\"=== Confusion matrix ===\"))\n",
    "print(\"pctCorrect: \" + str(evaluation.percent_correct))\n",
    "print(\"incorrect: \" + str(evaluation.incorrect))"
   ]
  },
  {
   "cell_type": "markdown",
   "metadata": {},
   "source": [
    "# Step 5- Improving model performance"
   ]
  },
  {
   "cell_type": "code",
   "execution_count": 17,
   "metadata": {},
   "outputs": [
    {
     "name": "stdout",
     "output_type": "stream",
     "text": [
      "\n",
      " JRIP rules:\n",
      "===========\n",
      "\n",
      "(odor = f) => type=p (2160.0/0.0)\n",
      "(gill_size = n) and (gill_color = b) => type=p (1152.0/0.0)\n",
      "(gill_size = n) and (odor = p) => type=p (256.0/0.0)\n",
      "(odor = c) => type=p (192.0/0.0)\n",
      "(spore_print_color = r) => type=p (72.0/0.0)\n",
      "(stalk_surface_below_ring = y) and (stalk_surface_above_ring = k) => type=p (68.0/0.0)\n",
      "(habitat = l) and (cap_color = w) => type=p (8.0/0.0)\n",
      "(stalk_color_above_ring = y) => type=p (8.0/0.0)\n",
      " => type=e (4208.0/0.0)\n",
      "\n",
      "Number of Rules : 9\n",
      " \n",
      "\n"
     ]
    }
   ],
   "source": [
    "# Ripper rule learning algorithm implementation\n",
    "data.class_is_first()\n",
    "cname = \"weka.classifiers.rules.JRip\"\n",
    "cls = Classifier(classname=cname, options=None)\n",
    "cls.build_classifier(data)\n",
    "print('\\n',cls,'\\n')"
   ]
  },
  {
   "cell_type": "code",
   "execution_count": 18,
   "metadata": {},
   "outputs": [
    {
     "name": "stdout",
     "output_type": "stream",
     "text": [
      "=== Summary == \n",
      "Correctly Classified Instances        8124              100      %\n",
      "Incorrectly Classified Instances         0                0      %\n",
      "Kappa statistic                          1     \n",
      "Mean absolute error                      0     \n",
      "Root mean squared error                  0     \n",
      "Relative absolute error                  0      %\n",
      "Root relative squared error              0      %\n",
      "Total Number of Instances             8124     \n",
      "\n",
      "=== Confusion matrix ===\n",
      "    a    b   <-- classified as\n",
      " 3916    0 |    a = p\n",
      "    0 4208 |    b = e\n",
      "\n",
      "pctCorrect: 100.0\n",
      "incorrect: 0.0\n"
     ]
    }
   ],
   "source": [
    "evaluation = Evaluation(data)\n",
    "evaluation.crossvalidate_model(cls, data, 10, Random(42))  # 10-fold CV\n",
    "print(\"=== Summary ==\", evaluation.summary())\n",
    "print(evaluation.matrix(\"=== Confusion matrix ===\"))\n",
    "print(\"pctCorrect: \" + str(evaluation.percent_correct))\n",
    "print(\"incorrect: \" + str(evaluation.incorrect))"
   ]
  },
  {
   "cell_type": "code",
   "execution_count": 19,
   "metadata": {},
   "outputs": [],
   "source": [
    "jvm.stop()"
   ]
  }
 ],
 "metadata": {
  "kernelspec": {
   "display_name": "Python 3",
   "language": "python",
   "name": "python3"
  },
  "language_info": {
   "codemirror_mode": {
    "name": "ipython",
    "version": 3
   },
   "file_extension": ".py",
   "mimetype": "text/x-python",
   "name": "python",
   "nbconvert_exporter": "python",
   "pygments_lexer": "ipython3",
   "version": "3.6.8"
  }
 },
 "nbformat": 4,
 "nbformat_minor": 2
}
