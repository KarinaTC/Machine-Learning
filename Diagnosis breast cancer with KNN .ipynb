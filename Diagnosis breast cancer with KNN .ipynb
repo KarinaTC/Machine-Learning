{
 "cells": [
  {
   "cell_type": "markdown",
   "metadata": {},
   "source": [
    "# DIAGNOSING BREAST CANCER WITH THE KNN ALGORITHM\n"
   ]
  },
  {
   "cell_type": "markdown",
   "metadata": {},
   "source": [
    "Rosa Karina Torres Calderon"
   ]
  },
  {
   "cell_type": "code",
   "execution_count": 1,
   "metadata": {},
   "outputs": [],
   "source": [
    "import pandas as pd\n",
    "import numpy as np\n",
    "import matplotlib\n",
    "matplotlib.use('TkAgg')\n",
    "import matplotlib.pyplot as plt\n",
    "plt.style.use('ggplot')\n",
    "from sklearn import preprocessing\n",
    "from sklearn.model_selection import train_test_split\n",
    "from sklearn.neighbors import KNeighborsClassifier\n",
    "from sklearn.metrics import classification_report, confusion_matrix"
   ]
  },
  {
   "cell_type": "markdown",
   "metadata": {},
   "source": [
    "# Step 1- Reading the data set"
   ]
  },
  {
   "cell_type": "code",
   "execution_count": 2,
   "metadata": {},
   "outputs": [
    {
     "name": "stdout",
     "output_type": "stream",
     "text": [
      "         id diagnosis  radius_mean  texture_mean  perimeter_mean  area_mean  \\\n",
      "0    842302         M        17.99         10.38          122.80     1001.0   \n",
      "1    842517         M        20.57         17.77          132.90     1326.0   \n",
      "2  84300903         M        19.69         21.25          130.00     1203.0   \n",
      "3  84348301         M        11.42         20.38           77.58      386.1   \n",
      "4  84358402         M        20.29         14.34          135.10     1297.0   \n",
      "\n",
      "   smoothness_mean  compactness_mean  concavity_mean  concave points_mean  \\\n",
      "0          0.11840           0.27760          0.3001              0.14710   \n",
      "1          0.08474           0.07864          0.0869              0.07017   \n",
      "2          0.10960           0.15990          0.1974              0.12790   \n",
      "3          0.14250           0.28390          0.2414              0.10520   \n",
      "4          0.10030           0.13280          0.1980              0.10430   \n",
      "\n",
      "   ...  radius_worst  texture_worst  perimeter_worst  area_worst  \\\n",
      "0  ...         25.38          17.33           184.60      2019.0   \n",
      "1  ...         24.99          23.41           158.80      1956.0   \n",
      "2  ...         23.57          25.53           152.50      1709.0   \n",
      "3  ...         14.91          26.50            98.87       567.7   \n",
      "4  ...         22.54          16.67           152.20      1575.0   \n",
      "\n",
      "   smoothness_worst  compactness_worst  concavity_worst  concave points_worst  \\\n",
      "0            0.1622             0.6656           0.7119                0.2654   \n",
      "1            0.1238             0.1866           0.2416                0.1860   \n",
      "2            0.1444             0.4245           0.4504                0.2430   \n",
      "3            0.2098             0.8663           0.6869                0.2575   \n",
      "4            0.1374             0.2050           0.4000                0.1625   \n",
      "\n",
      "   symmetry_worst  fractal_dimension_worst  \n",
      "0          0.4601                  0.11890  \n",
      "1          0.2750                  0.08902  \n",
      "2          0.3613                  0.08758  \n",
      "3          0.6638                  0.17300  \n",
      "4          0.2364                  0.07678  \n",
      "\n",
      "[5 rows x 32 columns]\n",
      " \n",
      "Tamaño del data set: (569, 32)\n"
     ]
    }
   ],
   "source": [
    "wdbc = pd.read_csv(\"wisc_bc_data.csv\")\n",
    "print(wdbc.head(5))\n",
    "print(\" \")\n",
    "print('Tamaño del data set: ' + str(wdbc.shape))"
   ]
  },
  {
   "cell_type": "markdown",
   "metadata": {},
   "source": [
    "# Step 2- Exploring and preparing the data"
   ]
  },
  {
   "cell_type": "code",
   "execution_count": 3,
   "metadata": {},
   "outputs": [
    {
     "name": "stdout",
     "output_type": "stream",
     "text": [
      "<class 'pandas.core.frame.DataFrame'>\n",
      "RangeIndex: 569 entries, 0 to 568\n",
      "Data columns (total 32 columns):\n",
      "id                         569 non-null int64\n",
      "diagnosis                  569 non-null object\n",
      "radius_mean                569 non-null float64\n",
      "texture_mean               569 non-null float64\n",
      "perimeter_mean             569 non-null float64\n",
      "area_mean                  569 non-null float64\n",
      "smoothness_mean            569 non-null float64\n",
      "compactness_mean           569 non-null float64\n",
      "concavity_mean             569 non-null float64\n",
      "concave points_mean        569 non-null float64\n",
      "symmetry_mean              569 non-null float64\n",
      "fractal_dimension_mean     569 non-null float64\n",
      "radius_se                  569 non-null float64\n",
      "texture_se                 569 non-null float64\n",
      "perimeter_se               569 non-null float64\n",
      "area_se                    569 non-null float64\n",
      "smoothness_se              569 non-null float64\n",
      "compactness_se             569 non-null float64\n",
      "concavity_se               569 non-null float64\n",
      "concave points_se          569 non-null float64\n",
      "symmetry_se                569 non-null float64\n",
      "fractal_dimension_se       569 non-null float64\n",
      "radius_worst               569 non-null float64\n",
      "texture_worst              569 non-null float64\n",
      "perimeter_worst            569 non-null float64\n",
      "area_worst                 569 non-null float64\n",
      "smoothness_worst           569 non-null float64\n",
      "compactness_worst          569 non-null float64\n",
      "concavity_worst            569 non-null float64\n",
      "concave points_worst       569 non-null float64\n",
      "symmetry_worst             569 non-null float64\n",
      "fractal_dimension_worst    569 non-null float64\n",
      "dtypes: float64(30), int64(1), object(1)\n",
      "memory usage: 142.3+ KB\n"
     ]
    }
   ],
   "source": [
    "wdbc.info()"
   ]
  },
  {
   "cell_type": "code",
   "execution_count": 4,
   "metadata": {},
   "outputs": [
    {
     "name": "stdout",
     "output_type": "stream",
     "text": [
      "Tamaño del data set original: (569, 32)\n",
      "Tamaño del data set modificado: (569, 31)\n"
     ]
    }
   ],
   "source": [
    "# Remove ID feature\n",
    "print('Tamaño del data set original: ' + str(wdbc.shape))\n",
    "\n",
    "wdbc = wdbc.drop(wdbc.columns[0], axis = 1)  \n",
    "print('Tamaño del data set modificado: ' + str(wdbc.shape))"
   ]
  },
  {
   "cell_type": "code",
   "execution_count": 5,
   "metadata": {},
   "outputs": [
    {
     "name": "stdout",
     "output_type": "stream",
     "text": [
      "Numero de masas malignas y benignas: \n",
      "B    357\n",
      "M    212\n",
      "Name: diagnosis, dtype: int64\n"
     ]
    }
   ],
   "source": [
    "# Output how many masses are benign and how many are malignant\n",
    "print(\"Numero de masas malignas y benignas: \")\n",
    "print(wdbc[\"diagnosis\"].value_counts()) "
   ]
  },
  {
   "cell_type": "code",
   "execution_count": 6,
   "metadata": {},
   "outputs": [
    {
     "name": "stdout",
     "output_type": "stream",
     "text": [
      "0    Malignant\n",
      "1    Malignant\n",
      "2    Malignant\n",
      "3    Malignant\n",
      "4    Malignant\n",
      "Name: diagnosis, dtype: category\n",
      "Categories (2, object): [Beningn, Malignant]\n"
     ]
    }
   ],
   "source": [
    "# Change name of classes\n",
    "wdbc[\"diagnosis\"] = wdbc[\"diagnosis\"].map({\"B\": \"Beningn\", \"M\":\"Malignant\"}) # Change B->Beningn and M->Malignant\n",
    "wdbc[\"diagnosis\"] = wdbc.diagnosis.astype(\"category\")\n",
    "print(wdbc[\"diagnosis\"].head(5))"
   ]
  },
  {
   "cell_type": "code",
   "execution_count": 7,
   "metadata": {},
   "outputs": [
    {
     "name": "stdout",
     "output_type": "stream",
     "text": [
      "Porcentaje tumores benignos: 62.74165202108963 %\n",
      "Porcentaje tumores malignos: 37.25834797891037 %\n"
     ]
    }
   ],
   "source": [
    "# Get percentage of benign and malign masses\n",
    "percent = wdbc[\"diagnosis\"].value_counts(); \n",
    "benign = (percent[0]*100)/(percent[0]+percent[1])\n",
    "malign = (percent[1]*100)/(percent[0]+percent[1])\n",
    "print(\"Porcentaje tumores benignos: \" + str(benign) + ' %')\n",
    "print(\"Porcentaje tumores malignos: \" + str(malign) + ' %')"
   ]
  },
  {
   "cell_type": "code",
   "execution_count": 8,
   "metadata": {},
   "outputs": [
    {
     "name": "stdout",
     "output_type": "stream",
     "text": [
      "\n",
      "Resumen estadistico de las carateristicas :\n",
      " \n",
      "       radius_mean  texture_mean  perimeter_mean    area_mean  \\\n",
      "count   569.000000    569.000000      569.000000   569.000000   \n",
      "mean     14.127292     19.289649       91.969033   654.889104   \n",
      "std       3.524049      4.301036       24.298981   351.914129   \n",
      "min       6.981000      9.710000       43.790000   143.500000   \n",
      "25%      11.700000     16.170000       75.170000   420.300000   \n",
      "50%      13.370000     18.840000       86.240000   551.100000   \n",
      "75%      15.780000     21.800000      104.100000   782.700000   \n",
      "max      28.110000     39.280000      188.500000  2501.000000   \n",
      "\n",
      "       smoothness_mean  compactness_mean  concavity_mean  concave points_mean  \\\n",
      "count       569.000000        569.000000      569.000000           569.000000   \n",
      "mean          0.096360          0.104341        0.088799             0.048919   \n",
      "std           0.014064          0.052813        0.079720             0.038803   \n",
      "min           0.052630          0.019380        0.000000             0.000000   \n",
      "25%           0.086370          0.064920        0.029560             0.020310   \n",
      "50%           0.095870          0.092630        0.061540             0.033500   \n",
      "75%           0.105300          0.130400        0.130700             0.074000   \n",
      "max           0.163400          0.345400        0.426800             0.201200   \n",
      "\n",
      "       symmetry_mean  fractal_dimension_mean  ...  radius_worst  \\\n",
      "count     569.000000              569.000000  ...    569.000000   \n",
      "mean        0.181162                0.062798  ...     16.269190   \n",
      "std         0.027414                0.007060  ...      4.833242   \n",
      "min         0.106000                0.049960  ...      7.930000   \n",
      "25%         0.161900                0.057700  ...     13.010000   \n",
      "50%         0.179200                0.061540  ...     14.970000   \n",
      "75%         0.195700                0.066120  ...     18.790000   \n",
      "max         0.304000                0.097440  ...     36.040000   \n",
      "\n",
      "       texture_worst  perimeter_worst   area_worst  smoothness_worst  \\\n",
      "count     569.000000       569.000000   569.000000        569.000000   \n",
      "mean       25.677223       107.261213   880.583128          0.132369   \n",
      "std         6.146258        33.602542   569.356993          0.022832   \n",
      "min        12.020000        50.410000   185.200000          0.071170   \n",
      "25%        21.080000        84.110000   515.300000          0.116600   \n",
      "50%        25.410000        97.660000   686.500000          0.131300   \n",
      "75%        29.720000       125.400000  1084.000000          0.146000   \n",
      "max        49.540000       251.200000  4254.000000          0.222600   \n",
      "\n",
      "       compactness_worst  concavity_worst  concave points_worst  \\\n",
      "count         569.000000       569.000000            569.000000   \n",
      "mean            0.254265         0.272188              0.114606   \n",
      "std             0.157336         0.208624              0.065732   \n",
      "min             0.027290         0.000000              0.000000   \n",
      "25%             0.147200         0.114500              0.064930   \n",
      "50%             0.211900         0.226700              0.099930   \n",
      "75%             0.339100         0.382900              0.161400   \n",
      "max             1.058000         1.252000              0.291000   \n",
      "\n",
      "       symmetry_worst  fractal_dimension_worst  \n",
      "count      569.000000               569.000000  \n",
      "mean         0.290076                 0.083946  \n",
      "std          0.061867                 0.018061  \n",
      "min          0.156500                 0.055040  \n",
      "25%          0.250400                 0.071460  \n",
      "50%          0.282200                 0.080040  \n",
      "75%          0.317900                 0.092080  \n",
      "max          0.663800                 0.207500  \n",
      "\n",
      "[8 rows x 30 columns]\n"
     ]
    }
   ],
   "source": [
    "print(\"\\nResumen estadistico de las carateristicas :\")\n",
    "print(\" \")\n",
    "print(wdbc.describe())"
   ]
  },
  {
   "cell_type": "markdown",
   "metadata": {},
   "source": [
    "Transformation - Normalizing numeric data"
   ]
  },
  {
   "cell_type": "code",
   "execution_count": 9,
   "metadata": {},
   "outputs": [
    {
     "name": "stdout",
     "output_type": "stream",
     "text": [
      "         0         1         2         3         4         5         6   \\\n",
      "0  0.521037  0.022658  0.545989  0.363733  0.593753  0.792037  0.703140   \n",
      "1  0.643144  0.272574  0.615783  0.501591  0.289880  0.181768  0.203608   \n",
      "2  0.601496  0.390260  0.595743  0.449417  0.514309  0.431017  0.462512   \n",
      "3  0.210090  0.360839  0.233501  0.102906  0.811321  0.811361  0.565604   \n",
      "4  0.629893  0.156578  0.630986  0.489290  0.430351  0.347893  0.463918   \n",
      "\n",
      "         7         8         9   ...        20        21        22        23  \\\n",
      "0  0.731113  0.686364  0.605518  ...  0.620776  0.141525  0.668310  0.450698   \n",
      "1  0.348757  0.379798  0.141323  ...  0.606901  0.303571  0.539818  0.435214   \n",
      "2  0.635686  0.509596  0.211247  ...  0.556386  0.360075  0.508442  0.374508   \n",
      "3  0.522863  0.776263  1.000000  ...  0.248310  0.385928  0.241347  0.094008   \n",
      "4  0.518390  0.378283  0.186816  ...  0.519744  0.123934  0.506948  0.341575   \n",
      "\n",
      "         24        25        26        27        28        29  \n",
      "0  0.601136  0.619292  0.568610  0.912027  0.598462  0.418864  \n",
      "1  0.347553  0.154563  0.192971  0.639175  0.233590  0.222878  \n",
      "2  0.483590  0.385375  0.359744  0.835052  0.403706  0.213433  \n",
      "3  0.915472  0.814012  0.548642  0.884880  1.000000  0.773711  \n",
      "4  0.437364  0.172415  0.319489  0.558419  0.157500  0.142595  \n",
      "\n",
      "[5 rows x 30 columns]\n"
     ]
    }
   ],
   "source": [
    "# Min max scaler\n",
    "min_max_scaler = preprocessing.MinMaxScaler()\n",
    "xminmax = min_max_scaler.fit_transform(wdbc.iloc[:,1:])\n",
    "normwdbc = pd.DataFrame(xminmax)\n",
    "print(normwdbc.head(5))"
   ]
  },
  {
   "cell_type": "markdown",
   "metadata": {},
   "source": [
    "Data preparation - creating training and test datasets"
   ]
  },
  {
   "cell_type": "code",
   "execution_count": 10,
   "metadata": {},
   "outputs": [],
   "source": [
    "# Split dataset in 80% train 20% test\n",
    "y = wdbc.iloc[:,0]\n",
    "X_train, X_test, y_train, y_test = train_test_split(normwdbc,y,test_size=0.20,random_state=42) "
   ]
  },
  {
   "cell_type": "markdown",
   "metadata": {},
   "source": [
    "# Step 3- Training a Model on the data"
   ]
  },
  {
   "cell_type": "code",
   "execution_count": 11,
   "metadata": {},
   "outputs": [
    {
     "data": {
      "text/plain": [
       "KNeighborsClassifier(algorithm='auto', leaf_size=30, metric='minkowski',\n",
       "           metric_params=None, n_jobs=None, n_neighbors=21, p=2,\n",
       "           weights='uniform')"
      ]
     },
     "execution_count": 11,
     "metadata": {},
     "output_type": "execute_result"
    }
   ],
   "source": [
    "classifier = KNeighborsClassifier(n_neighbors=21)\n",
    "classifier.fit(X_train,y_train)"
   ]
  },
  {
   "cell_type": "markdown",
   "metadata": {},
   "source": [
    "# Step 4- Evaluating model performance"
   ]
  },
  {
   "cell_type": "code",
   "execution_count": 12,
   "metadata": {},
   "outputs": [
    {
     "name": "stdout",
     "output_type": "stream",
     "text": [
      "Matriz de confusión\n",
      "Predicted  Beningn  Malignant  All\n",
      "True                              \n",
      "Beningn        285          1  286\n",
      "Malignant       16        153  169\n",
      "All            301        154  455\n",
      "----------------------------------------------------- \n",
      "Metricas de clasificación\n",
      "              precision    recall  f1-score   support\n",
      "\n",
      "     Beningn       0.95      1.00      0.97       286\n",
      "   Malignant       0.99      0.91      0.95       169\n",
      "\n",
      "   micro avg       0.96      0.96      0.96       455\n",
      "   macro avg       0.97      0.95      0.96       455\n",
      "weighted avg       0.96      0.96      0.96       455\n",
      "\n"
     ]
    }
   ],
   "source": [
    "# Evaluating the model in the train set \n",
    "y_pred = classifier.predict(X_train)\n",
    "print('Matriz de confusión')\n",
    "print(pd.crosstab(y_train,y_pred,rownames=['True'],colnames=['Predicted'],margins=True))\n",
    "print(\"----------------------------------------------------- \")\n",
    "print('Metricas de clasificación')\n",
    "print(classification_report(y_train,y_pred))"
   ]
  },
  {
   "cell_type": "code",
   "execution_count": 13,
   "metadata": {
    "scrolled": true
   },
   "outputs": [
    {
     "name": "stdout",
     "output_type": "stream",
     "text": [
      "Matriz de confusión\n",
      "Predicted  Beningn  Malignant  All\n",
      "True                              \n",
      "Beningn         69          2   71\n",
      "Malignant        3         40   43\n",
      "All             72         42  114\n",
      "----------------------------------------------------- \n",
      "Metricas de clasificación\n",
      "              precision    recall  f1-score   support\n",
      "\n",
      "     Beningn       0.96      0.97      0.97        71\n",
      "   Malignant       0.95      0.93      0.94        43\n",
      "\n",
      "   micro avg       0.96      0.96      0.96       114\n",
      "   macro avg       0.96      0.95      0.95       114\n",
      "weighted avg       0.96      0.96      0.96       114\n",
      "\n"
     ]
    }
   ],
   "source": [
    "# Evaluating the model in the test set \n",
    "y_pred = classifier.predict(X_test)\n",
    "print('Matriz de confusión')\n",
    "print(pd.crosstab(y_test,y_pred,rownames=['True'],colnames=['Predicted'],margins=True))\n",
    "print(\"----------------------------------------------------- \")\n",
    "print('Metricas de clasificación')\n",
    "print(classification_report(y_test,y_pred))"
   ]
  },
  {
   "cell_type": "markdown",
   "metadata": {},
   "source": [
    "# Step 5- Improving model performance"
   ]
  },
  {
   "cell_type": "markdown",
   "metadata": {},
   "source": [
    "Transformation z-score standardization"
   ]
  },
  {
   "cell_type": "code",
   "execution_count": 14,
   "metadata": {},
   "outputs": [
    {
     "name": "stdout",
     "output_type": "stream",
     "text": [
      "         0         1         2         3         4         5         6   \\\n",
      "0  1.097064 -2.073335  1.269934  0.984375  1.568466  3.283515  2.652874   \n",
      "1  1.829821 -0.353632  1.685955  1.908708 -0.826962 -0.487072 -0.023846   \n",
      "2  1.579888  0.456187  1.566503  1.558884  0.942210  1.052926  1.363478   \n",
      "3 -0.768909  0.253732 -0.592687 -0.764464  3.283553  3.402909  1.915897   \n",
      "4  1.750297 -1.151816  1.776573  1.826229  0.280372  0.539340  1.371011   \n",
      "\n",
      "         7         8         9   ...        20        21        22        23  \\\n",
      "0  2.532475  2.217515  2.255747  ...  1.886690 -1.359293  2.303601  2.001237   \n",
      "1  0.548144  0.001392 -0.868652  ...  1.805927 -0.369203  1.535126  1.890489   \n",
      "2  2.037231  0.939685 -0.398008  ...  1.511870 -0.023974  1.347475  1.456285   \n",
      "3  1.451707  2.867383  4.910919  ... -0.281464  0.133984 -0.249939 -0.550021   \n",
      "4  1.428493 -0.009560 -0.562450  ...  1.298575 -1.466770  1.338539  1.220724   \n",
      "\n",
      "         24        25        26        27        28        29  \n",
      "0  1.307686  2.616665  2.109526  2.296076  2.750622  1.937015  \n",
      "1 -0.375612 -0.430444 -0.146749  1.087084 -0.243890  0.281190  \n",
      "2  0.527407  1.082932  0.854974  1.955000  1.152255  0.201391  \n",
      "3  3.394275  3.893397  1.989588  2.175786  6.046041  4.935010  \n",
      "4  0.220556 -0.313395  0.613179  0.729259 -0.868353 -0.397100  \n",
      "\n",
      "[5 rows x 30 columns]\n"
     ]
    }
   ],
   "source": [
    "#Z-Standardization\n",
    "std_scaler = preprocessing.StandardScaler()\n",
    "stdscaler = std_scaler.fit_transform(wdbc.iloc[:,1:])\n",
    "stdwdbc = pd.DataFrame(stdscaler)\n",
    "print(stdwdbc.head(5))"
   ]
  },
  {
   "cell_type": "code",
   "execution_count": 15,
   "metadata": {},
   "outputs": [
    {
     "name": "stdout",
     "output_type": "stream",
     "text": [
      "Matriz de confusión\n",
      "Predicted  Beningn  Malignant  All\n",
      "True                              \n",
      "Beningn         69          2   71\n",
      "Malignant        2         41   43\n",
      "All             71         43  114\n",
      "----------------------------------------------------- \n",
      "Metricas de clasificación\n",
      "              precision    recall  f1-score   support\n",
      "\n",
      "     Beningn       0.97      0.97      0.97        71\n",
      "   Malignant       0.95      0.95      0.95        43\n",
      "\n",
      "   micro avg       0.96      0.96      0.96       114\n",
      "   macro avg       0.96      0.96      0.96       114\n",
      "weighted avg       0.96      0.96      0.96       114\n",
      "\n"
     ]
    }
   ],
   "source": [
    "# Split new dataset in 80% train 20% test\n",
    "y = wdbc.iloc[:,0]\n",
    "X_train, X_test, y_train, y_test = train_test_split(stdwdbc,y,test_size=0.20,random_state=42) \n",
    "#Creation of the model\n",
    "classifier = KNeighborsClassifier(n_neighbors=9)\n",
    "classifier.fit(X_train,y_train)\n",
    "#Evaluating the model\n",
    "y_pred = classifier.predict(X_test)\n",
    "print('Matriz de confusión')\n",
    "print(pd.crosstab(y_test,y_pred,rownames=['True'],colnames=['Predicted'],margins=True))\n",
    "print(\"----------------------------------------------------- \")\n",
    "print('Metricas de clasificación')\n",
    "print(classification_report(y_test,y_pred))"
   ]
  },
  {
   "cell_type": "markdown",
   "metadata": {},
   "source": [
    "Testing alternative values of k"
   ]
  },
  {
   "cell_type": "code",
   "execution_count": 16,
   "metadata": {},
   "outputs": [
    {
     "data": {
      "image/png": "[encoded data removed]",
      "text/plain": [
       "<Figure size 432x288 with 1 Axes>"
      ]
     },
     "metadata": {
      "needs_background": "light"
     },
     "output_type": "display_data"
    }
   ],
   "source": [
    "#Accuracies for different values of k\n",
    "#Set up arrays to store training and test accuracies\n",
    "neighbors = np.arange(1,30)\n",
    "train_accuracy = np.empty(len(neighbors))\n",
    "test_accuracy = np.empty(len(neighbors))\n",
    "\n",
    "for i,k in enumerate(neighbors):\n",
    "    #Setup a KNN classifier with k neighbors\n",
    "    knn = KNeighborsClassifier(n_neighbors= k)\n",
    "    #Fit the model\n",
    "    knn.fit(X_train,y_train)\n",
    "    #Compute accuracy on the training set\n",
    "    train_accuracy[i] = knn.score(X_train,y_train)\n",
    "    #Compute accuracy on the test set\n",
    "    test_accuracy[i] = knn.score(X_test,y_test)\n",
    "\n",
    "#Generate plot\n",
    "%matplotlib inline\n",
    "plt.title('KNN Varying number of neighbors')\n",
    "plt.plot(neighbors,test_accuracy,label = 'Testing Accuracy')\n",
    "plt.plot(neighbors,train_accuracy,label = 'Training Accuracy')\n",
    "plt.legend()\n",
    "plt.xlabel('Number of neighbors')\n",
    "plt.ylabel('Accuracy')\n",
    "plt.show()"
   ]
  },
  {
   "cell_type": "code",
   "execution_count": 17,
   "metadata": {},
   "outputs": [
    {
     "data": {
      "text/plain": [
       "Text(0.5, 1.0, 'Error Rate K value')"
      ]
     },
     "execution_count": 17,
     "metadata": {},
     "output_type": "execute_result"
    },
    {
     "data": {
      "image/png": "[encoded data removed]",
      "text/plain": [
       "<Figure size 432x288 with 1 Axes>"
      ]
     },
     "metadata": {
      "needs_background": "light"
     },
     "output_type": "display_data"
    }
   ],
   "source": [
    "#Error\n",
    "error = []\n",
    "for i in range(1,40):\n",
    "    knn = KNeighborsClassifier(n_neighbors=i)\n",
    "    knn.fit(X_train,y_train)\n",
    "    pred_i = knn.predict(X_test)\n",
    "    error.append(np.mean(pred_i != y_test))\n",
    "    \n",
    "%matplotlib inline\n",
    "plt.plot(range(1,40),error,color = 'red',linestyle = 'dashed', marker = 'o',markerfacecolor = 'blue',markersize=10)\n",
    "plt.title('Error Rate K value')\n"
   ]
  }
 ],
 "metadata": {
  "kernelspec": {
   "display_name": "Python 3",
   "language": "python",
   "name": "python3"
  },
  "language_info": {
   "codemirror_mode": {
    "name": "ipython",
    "version": 3
   },
   "file_extension": ".py",
   "mimetype": "text/x-python",
   "name": "python",
   "nbconvert_exporter": "python",
   "pygments_lexer": "ipython3",
   "version": "3.6.8"
  }
 },
 "nbformat": 4,
 "nbformat_minor": 2
}
