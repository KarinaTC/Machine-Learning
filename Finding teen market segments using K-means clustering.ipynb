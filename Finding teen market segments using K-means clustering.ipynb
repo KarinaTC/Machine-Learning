{
 "cells": [
  {
   "cell_type": "markdown",
   "metadata": {},
   "source": [
    "# FINDING TEEN MARKET SEGMENTS USING K-MEANS CLUSTERING"
   ]
  },
  {
   "cell_type": "markdown",
   "metadata": {},
   "source": [
    "Rosa Karina Torres Calderon"
   ]
  },
  {
   "cell_type": "code",
   "execution_count": 64,
   "metadata": {},
   "outputs": [],
   "source": [
    "import pandas as pd\n",
    "import numpy as np \n",
    "import matplotlib.pyplot as plt\n",
    "from sklearn.preprocessing import LabelEncoder\n",
    "from sklearn.cluster import KMeans\n",
    "from sklearn import preprocessing\n",
    "from sklearn.metrics import silhouette_score\n",
    "from sklearn.metrics import silhouette_samples\n",
    "from matplotlib.ticker import FixedLocator, FixedFormatter"
   ]
  },
  {
   "cell_type": "markdown",
   "metadata": {},
   "source": [
    "Functions"
   ]
  },
  {
   "cell_type": "code",
   "execution_count": 4,
   "metadata": {},
   "outputs": [],
   "source": [
    "def categoricalToNumerical(nameColumn, dataframe):\n",
    "    enc = LabelEncoder()\n",
    "    label_encoder = enc.fit(dataframe.iloc[:, nameColumn])\n",
    "    print(\"Clases categoricas: \", label_encoder.classes_)\n",
    "    t = label_encoder.transform(dataframe.iloc[:, nameColumn])\n",
    "    dataframe.iloc[:, nameColumn] = t\n",
    "    return dataframe"
   ]
  },
  {
   "cell_type": "code",
   "execution_count": 5,
   "metadata": {},
   "outputs": [],
   "source": [
    "def checkIfNanValue(dataframe,nameCol):\n",
    "    nanT = dataframe[nameCol].isnull().values.any()\n",
    "    if nanT == True:\n",
    "        nullValue = dataframe[nameCol].isnull().sum()\n",
    "    else:\n",
    "        nullValue = 0\n",
    "    return nullValue   "
   ]
  },
  {
   "cell_type": "markdown",
   "metadata": {},
   "source": [
    "# Step 1- Reading the data set"
   ]
  },
  {
   "cell_type": "code",
   "execution_count": 6,
   "metadata": {},
   "outputs": [
    {
     "name": "stdout",
     "output_type": "stream",
     "text": [
      "   gradyear gender     age  friends  basketball  football  soccer  softball  \\\n",
      "0      2006      M  18.982        7           0         0       0         0   \n",
      "1      2006      F  18.801        0           0         1       0         0   \n",
      "2      2006      M  18.335       69           0         1       0         0   \n",
      "3      2006      F  18.875        0           0         0       0         0   \n",
      "4      2006    NaN  18.995       10           0         0       0         0   \n",
      "\n",
      "   volleyball  swimming  ...  blonde  mall  shopping  clothes  hollister  \\\n",
      "0           0         0  ...       0     0         0        0          0   \n",
      "1           0         0  ...       0     1         0        0          0   \n",
      "2           0         0  ...       0     0         0        0          0   \n",
      "3           0         0  ...       0     0         0        0          0   \n",
      "4           0         0  ...       0     0         2        0          0   \n",
      "\n",
      "   abercrombie  die  death  drunk  drugs  \n",
      "0            0    0      0      0      0  \n",
      "1            0    0      0      0      0  \n",
      "2            0    0      1      0      0  \n",
      "3            0    0      0      0      0  \n",
      "4            0    0      0      1      1  \n",
      "\n",
      "[5 rows x 40 columns]\n",
      " \n",
      "Tamaño del data set: (30000, 40)\n"
     ]
    }
   ],
   "source": [
    "teens = pd.read_csv(\"snsdata.csv\")\n",
    "print(teens.head())\n",
    "print(\" \")\n",
    "print('Tamaño del data set: ' + str(teens.shape))"
   ]
  },
  {
   "cell_type": "markdown",
   "metadata": {},
   "source": [
    "# Step 2- Exploring and preparing the data"
   ]
  },
  {
   "cell_type": "code",
   "execution_count": 7,
   "metadata": {},
   "outputs": [
    {
     "name": "stdout",
     "output_type": "stream",
     "text": [
      "<class 'pandas.core.frame.DataFrame'>\n",
      "RangeIndex: 30000 entries, 0 to 29999\n",
      "Data columns (total 40 columns):\n",
      "gradyear        30000 non-null int64\n",
      "gender          27276 non-null object\n",
      "age             24914 non-null float64\n",
      "friends         30000 non-null int64\n",
      "basketball      30000 non-null int64\n",
      "football        30000 non-null int64\n",
      "soccer          30000 non-null int64\n",
      "softball        30000 non-null int64\n",
      "volleyball      30000 non-null int64\n",
      "swimming        30000 non-null int64\n",
      "cheerleading    30000 non-null int64\n",
      "baseball        30000 non-null int64\n",
      "tennis          30000 non-null int64\n",
      "sports          30000 non-null int64\n",
      "cute            30000 non-null int64\n",
      "sex             30000 non-null int64\n",
      "sexy            30000 non-null int64\n",
      "hot             30000 non-null int64\n",
      "kissed          30000 non-null int64\n",
      "dance           30000 non-null int64\n",
      "band            30000 non-null int64\n",
      "marching        30000 non-null int64\n",
      "music           30000 non-null int64\n",
      "rock            30000 non-null int64\n",
      "god             30000 non-null int64\n",
      "church          30000 non-null int64\n",
      "jesus           30000 non-null int64\n",
      "bible           30000 non-null int64\n",
      "hair            30000 non-null int64\n",
      "dress           30000 non-null int64\n",
      "blonde          30000 non-null int64\n",
      "mall            30000 non-null int64\n",
      "shopping        30000 non-null int64\n",
      "clothes         30000 non-null int64\n",
      "hollister       30000 non-null int64\n",
      "abercrombie     30000 non-null int64\n",
      "die             30000 non-null int64\n",
      "death           30000 non-null int64\n",
      "drunk           30000 non-null int64\n",
      "drugs           30000 non-null int64\n",
      "dtypes: float64(1), int64(38), object(1)\n",
      "memory usage: 9.2+ MB\n",
      "None\n"
     ]
    }
   ],
   "source": [
    "print(teens.info())"
   ]
  },
  {
   "cell_type": "code",
   "execution_count": 8,
   "metadata": {},
   "outputs": [
    {
     "name": "stdout",
     "output_type": "stream",
     "text": [
      "Número de hombres  y mujeres: \n",
      "F    22054\n",
      "M     5222\n",
      "Name: gender, dtype: int64\n",
      "Número de personas que no especificaron su genero: \n",
      "2724\n"
     ]
    }
   ],
   "source": [
    "print(\"Número de hombres  y mujeres: \")\n",
    "print(teens[\"gender\"].value_counts()) \n",
    "print(\"Número de personas que no especificaron su genero: \")\n",
    "print(teens[\"gender\"].isnull().sum())"
   ]
  },
  {
   "cell_type": "code",
   "execution_count": 9,
   "metadata": {},
   "outputs": [
    {
     "name": "stdout",
     "output_type": "stream",
     "text": [
      "count    24914.000000\n",
      "mean        17.993950\n",
      "std          7.858054\n",
      "min          3.086000\n",
      "25%         16.312000\n",
      "50%         17.287000\n",
      "75%         18.259000\n",
      "max        106.927000\n",
      "Name: age, dtype: float64\n"
     ]
    }
   ],
   "source": [
    "print(teens['age'].describe())"
   ]
  },
  {
   "cell_type": "code",
   "execution_count": 10,
   "metadata": {},
   "outputs": [
    {
     "name": "stdout",
     "output_type": "stream",
     "text": [
      "Número de valores faltantes de la característica age: 5086\n"
     ]
    }
   ],
   "source": [
    "# Check if age has missing values \n",
    "print('Número de valores faltantes de la característica age: ' + str(checkIfNanValue(teens,'age')))"
   ]
  },
  {
   "cell_type": "code",
   "execution_count": 14,
   "metadata": {},
   "outputs": [
    {
     "name": "stdout",
     "output_type": "stream",
     "text": [
      "count    24477.000000\n",
      "mean        17.252429\n",
      "std          1.157465\n",
      "min         13.027000\n",
      "25%         16.304000\n",
      "50%         17.265000\n",
      "75%         18.220000\n",
      "max         19.995000\n",
      "Name: age, dtype: float64\n"
     ]
    }
   ],
   "source": [
    "# Replace suspicious age values \n",
    "teens.loc[teens.age < 13,'age'] = np.NaN \n",
    "teens.loc[teens.age > 20,'age'] = np.NaN \n",
    "            \n",
    "print(teens['age'].describe())"
   ]
  },
  {
   "cell_type": "markdown",
   "metadata": {},
   "source": [
    "Data preparation - dummy coding missing values "
   ]
  },
  {
   "cell_type": "code",
   "execution_count": 18,
   "metadata": {},
   "outputs": [
    {
     "name": "stdout",
     "output_type": "stream",
     "text": [
      "Nombre de las columnas\n",
      "['Femenino', 'Masculino', 'Sin genero']\n",
      "\n",
      "1    22054\n",
      "0     7946\n",
      "Name: Femenino, dtype: int64\n",
      "0    27276\n",
      "1     2724\n",
      "Name: Sin genero, dtype: int64\n",
      "\n",
      "   gradyear gender     age  friends  basketball  football  soccer  softball  \\\n",
      "0      2006      M  18.982        7           0         0       0         0   \n",
      "1      2006      F  18.801        0           0         1       0         0   \n",
      "2      2006      M  18.335       69           0         1       0         0   \n",
      "3      2006      F  18.875        0           0         0       0         0   \n",
      "4      2006    NaN  18.995       10           0         0       0         0   \n",
      "\n",
      "   volleyball  swimming  ...  clothes  hollister  abercrombie  die  death  \\\n",
      "0           0         0  ...        0          0            0    0      0   \n",
      "1           0         0  ...        0          0            0    0      0   \n",
      "2           0         0  ...        0          0            0    0      1   \n",
      "3           0         0  ...        0          0            0    0      0   \n",
      "4           0         0  ...        0          0            0    0      0   \n",
      "\n",
      "   drunk  drugs  Femenino  Masculino  Sin genero  \n",
      "0      0      0         0          1           0  \n",
      "1      0      0         1          0           0  \n",
      "2      0      0         0          1           0  \n",
      "3      0      0         1          0           0  \n",
      "4      1      1         0          0           1  \n",
      "\n",
      "[5 rows x 43 columns]\n"
     ]
    }
   ],
   "source": [
    "#Dummy coding\n",
    "df_sex = pd.get_dummies(teens['gender'],dummy_na=True)\n",
    "df_sex.columns = ['Femenino', 'Masculino','Sin genero']\n",
    "print('Nombre de las columnas')\n",
    "print(list(df_sex.columns))\n",
    "\n",
    "print('')\n",
    "print(df_sex['Femenino'].value_counts())\n",
    "print(df_sex['Sin genero'].value_counts())\n",
    "\n",
    "# Join the dummy variables to the main dataframe\n",
    "teens_new = pd.concat([teens, df_sex], axis=1)\n",
    "print('')\n",
    "print(teens_new.head())\n",
    "#df_new"
   ]
  },
  {
   "cell_type": "markdown",
   "metadata": {},
   "source": [
    "Data preparation - imputing missing values"
   ]
  },
  {
   "cell_type": "code",
   "execution_count": 21,
   "metadata": {},
   "outputs": [
    {
     "name": "stdout",
     "output_type": "stream",
     "text": [
      "2009    7500\n",
      "2008    7500\n",
      "2007    7500\n",
      "2006    7500\n",
      "Name: gradyear, dtype: int64\n",
      "\n",
      "gradyear\n",
      "2006    18.655858\n",
      "2007    17.706172\n",
      "2008    16.767701\n",
      "2009    15.819573\n",
      "Name: age, dtype: float64\n"
     ]
    }
   ],
   "source": [
    "# Calculate the average value of age using the year of graduation\n",
    "print(teens_new[\"gradyear\"].value_counts()) \n",
    "group = teens_new.groupby('gradyear')\n",
    "\n",
    "groupmed = group['age'].mean()\n",
    "print('')\n",
    "print(groupmed.head(5))"
   ]
  },
  {
   "cell_type": "code",
   "execution_count": 23,
   "metadata": {},
   "outputs": [
    {
     "name": "stderr",
     "output_type": "stream",
     "text": [
      "/Users/karinatorres/anaconda3/envs/MachineLearning/lib/python3.6/site-packages/ipykernel_launcher.py:4: SettingWithCopyWarning: \n",
      "A value is trying to be set on a copy of a slice from a DataFrame\n",
      "\n",
      "See the caveats in the documentation: http://pandas.pydata.org/pandas-docs/stable/indexing.html#indexing-view-versus-copy\n",
      "  after removing the cwd from sys.path.\n",
      "/Users/karinatorres/anaconda3/envs/MachineLearning/lib/python3.6/site-packages/ipykernel_launcher.py:6: SettingWithCopyWarning: \n",
      "A value is trying to be set on a copy of a slice from a DataFrame\n",
      "\n",
      "See the caveats in the documentation: http://pandas.pydata.org/pandas-docs/stable/indexing.html#indexing-view-versus-copy\n",
      "  \n",
      "/Users/karinatorres/anaconda3/envs/MachineLearning/lib/python3.6/site-packages/ipykernel_launcher.py:8: SettingWithCopyWarning: \n",
      "A value is trying to be set on a copy of a slice from a DataFrame\n",
      "\n",
      "See the caveats in the documentation: http://pandas.pydata.org/pandas-docs/stable/indexing.html#indexing-view-versus-copy\n",
      "  \n",
      "/Users/karinatorres/anaconda3/envs/MachineLearning/lib/python3.6/site-packages/ipykernel_launcher.py:10: SettingWithCopyWarning: \n",
      "A value is trying to be set on a copy of a slice from a DataFrame\n",
      "\n",
      "See the caveats in the documentation: http://pandas.pydata.org/pandas-docs/stable/indexing.html#indexing-view-versus-copy\n",
      "  # Remove the CWD from sys.path while we load stuff.\n"
     ]
    },
    {
     "name": "stdout",
     "output_type": "stream",
     "text": [
      "   gradyear gender     age  friends  basketball  football  soccer  softball  \\\n",
      "0      2006      M  18.982        7           0         0       0         0   \n",
      "1      2006      F  18.801        0           0         1       0         0   \n",
      "2      2006      M  18.335       69           0         1       0         0   \n",
      "3      2006      F  18.875        0           0         0       0         0   \n",
      "4      2006    NaN  18.995       10           0         0       0         0   \n",
      "\n",
      "   volleyball  swimming  ...  clothes  hollister  abercrombie  die  death  \\\n",
      "0           0         0  ...        0          0            0    0      0   \n",
      "1           0         0  ...        0          0            0    0      0   \n",
      "2           0         0  ...        0          0            0    0      1   \n",
      "3           0         0  ...        0          0            0    0      0   \n",
      "4           0         0  ...        0          0            0    0      0   \n",
      "\n",
      "   drunk  drugs  Femenino  Masculino  Sin genero  \n",
      "0      0      0         0          1           0  \n",
      "1      0      0         1          0           0  \n",
      "2      0      0         0          1           0  \n",
      "3      0      0         1          0           0  \n",
      "4      1      1         0          0           1  \n",
      "\n",
      "[5 rows x 43 columns]\n"
     ]
    }
   ],
   "source": [
    "# Fill nan values \n",
    "for i in range(0,teens_new.shape[0]):\n",
    "    if pd.isnull(teens_new['age'][i]):\n",
    "        if teens_new['gradyear'][i] == groupmed.index[0]:\n",
    "            teens_new['age'][i] = groupmed.iloc[0]\n",
    "        elif teens_new['gradyear'][i] == groupmed.index[1]: \n",
    "            teens_new['age'][i] = groupmed.iloc[1]\n",
    "        elif teens_new['gradyear'][i] == groupmed.index[2]: \n",
    "            teens_new['age'][i] = groupmed.iloc[2]\n",
    "        elif teens_new['gradyear'][i] == groupmed.index[3]: \n",
    "            teens_new['age'][i] = groupmed.iloc[3]\n",
    "print(teens_new.head())      "
   ]
  },
  {
   "cell_type": "code",
   "execution_count": 24,
   "metadata": {},
   "outputs": [
    {
     "name": "stdout",
     "output_type": "stream",
     "text": [
      "0\n"
     ]
    }
   ],
   "source": [
    "# Verify if age has Nan values\n",
    "print(checkIfNanValue(teens_new,'age'))"
   ]
  },
  {
   "cell_type": "code",
   "execution_count": 25,
   "metadata": {},
   "outputs": [
    {
     "name": "stdout",
     "output_type": "stream",
     "text": [
      "count    30000.000000\n",
      "mean        17.237326\n",
      "std          1.141821\n",
      "min         13.027000\n",
      "25%         16.282000\n",
      "50%         17.238000\n",
      "75%         18.212000\n",
      "max         19.995000\n",
      "Name: age, dtype: float64\n"
     ]
    }
   ],
   "source": [
    "print(teens_new['age'].describe())"
   ]
  },
  {
   "cell_type": "code",
   "execution_count": 26,
   "metadata": {},
   "outputs": [
    {
     "name": "stdout",
     "output_type": "stream",
     "text": [
      "   gradyear     age  friends  basketball  football  soccer  softball  \\\n",
      "0      2006  18.982        7           0         0       0         0   \n",
      "1      2006  18.801        0           0         1       0         0   \n",
      "2      2006  18.335       69           0         1       0         0   \n",
      "3      2006  18.875        0           0         0       0         0   \n",
      "4      2006  18.995       10           0         0       0         0   \n",
      "\n",
      "   volleyball  swimming  cheerleading  ...  shopping  clothes  hollister  \\\n",
      "0           0         0             0  ...         0        0          0   \n",
      "1           0         0             0  ...         0        0          0   \n",
      "2           0         0             0  ...         0        0          0   \n",
      "3           0         0             0  ...         0        0          0   \n",
      "4           0         0             0  ...         2        0          0   \n",
      "\n",
      "   abercrombie  die  death  drunk  drugs  Femenino  Sin genero  \n",
      "0            0    0      0      0      0         0           0  \n",
      "1            0    0      0      0      0         1           0  \n",
      "2            0    0      1      0      0         0           0  \n",
      "3            0    0      0      0      0         1           0  \n",
      "4            0    0      0      1      1         0           1  \n",
      "\n",
      "[5 rows x 41 columns]\n"
     ]
    },
    {
     "name": "stderr",
     "output_type": "stream",
     "text": [
      "/Users/karinatorres/anaconda3/envs/MachineLearning/lib/python3.6/site-packages/sklearn/preprocessing/data.py:645: DataConversionWarning: Data with input dtype uint8, int64 were all converted to float64 by StandardScaler.\n",
      "  return self.partial_fit(X, y)\n",
      "/Users/karinatorres/anaconda3/envs/MachineLearning/lib/python3.6/site-packages/ipykernel_launcher.py:7: DataConversionWarning: Data with input dtype uint8, int64 were all converted to float64 by StandardScaler.\n",
      "  import sys\n"
     ]
    },
    {
     "data": {
      "text/plain": [
       "array([[-0.33221726, -0.35769737, -0.2428741 , ..., -0.22040264,\n",
       "        -0.1749076 , -0.31601901],\n",
       "       [-0.33221726,  1.06004883, -0.2428741 , ..., -0.22040264,\n",
       "        -0.1749076 , -0.31601901],\n",
       "       [-0.33221726,  1.06004883, -0.2428741 , ..., -0.22040264,\n",
       "        -0.1749076 , -0.31601901],\n",
       "       ...,\n",
       "       [-0.33221726,  1.06004883, -0.2428741 , ..., -0.22040264,\n",
       "        -0.1749076 , -0.31601901],\n",
       "       [-0.33221726, -0.35769737, -0.2428741 , ..., -0.22040264,\n",
       "        -0.1749076 , -0.31601901],\n",
       "       [ 2.15319868, -0.35769737, -0.2428741 , ..., -0.22040264,\n",
       "        -0.1749076 , -0.31601901]])"
      ]
     },
     "execution_count": 26,
     "metadata": {},
     "output_type": "execute_result"
    }
   ],
   "source": [
    "teens_new = teens_new.drop(columns = ['gender', 'Masculino'])\n",
    "print(teens_new.head())\n",
    "\n",
    "#Normalize data and delete some columns\n",
    "teens_new_proof = teens_new.drop(columns = ['age','Femenino','gradyear','friends'])\n",
    "scaler = preprocessing.StandardScaler().fit(teens_new_proof)\n",
    "scaler.transform(teens_new_proof) "
   ]
  },
  {
   "cell_type": "markdown",
   "metadata": {},
   "source": [
    "# Step 3- Training a Model on the data"
   ]
  },
  {
   "cell_type": "code",
   "execution_count": 32,
   "metadata": {},
   "outputs": [],
   "source": [
    "kmeans = KMeans(n_clusters=5, random_state=42).fit(teens_new_proof)"
   ]
  },
  {
   "cell_type": "code",
   "execution_count": 33,
   "metadata": {},
   "outputs": [
    {
     "name": "stdout",
     "output_type": "stream",
     "text": [
      "[[2.32076286e-01 2.19832830e-01 2.02762626e-01 1.46764510e-01\n",
      "  1.29615822e-01 1.19648393e-01 9.23360672e-02 9.13550210e-02\n",
      "  7.86406624e-02 1.16587529e-01 2.56210022e-01 9.46905780e-02\n",
      "  1.17686301e-01 1.06306165e-01 4.66585567e-02 2.08570419e-01\n",
      "  1.96209238e-01 2.93136601e-02 5.60373582e-01 1.75293333e-01\n",
      "  2.60134207e-01 1.85143037e-01 7.92685320e-02 1.27536004e-02\n",
      "  2.14692148e-01 8.50370835e-02 5.06612251e-02 2.09512224e-01\n",
      "  3.10363772e-01 1.06698583e-01 5.88235294e-02 4.01051682e-02\n",
      "  1.32362752e-01 9.16297139e-02 6.31008908e-02 3.13542362e-02\n",
      "  9.52792057e-02]\n",
      " [0.00000000e+00 2.00000000e+00 0.00000000e+00 0.00000000e+00\n",
      "  0.00000000e+00 1.00000000e+00 0.00000000e+00 0.00000000e+00\n",
      "  0.00000000e+00 0.00000000e+00 1.00000000e+00 2.20000000e+01\n",
      "  1.00000000e+00 0.00000000e+00 0.00000000e+00 1.00000000e+00\n",
      "  1.00000000e+00 0.00000000e+00 0.00000000e+00 1.00000000e+00\n",
      "  1.00000000e+01 0.00000000e+00 1.00000000e+00 0.00000000e+00\n",
      "  1.20000000e+01 2.00000000e+00 3.27000000e+02 0.00000000e+00\n",
      "  0.00000000e+00 1.00000000e+00 0.00000000e+00 0.00000000e+00\n",
      "  6.00000000e+00 6.00000000e+00 6.00000000e+00 0.00000000e+00\n",
      "  0.00000000e+00]\n",
      " [2.87631831e-01 2.86673058e-01 2.31064238e-01 2.04218600e-01\n",
      "  1.68744008e-01 1.64908917e-01 1.25599233e-01 1.23681687e-01\n",
      "  1.02588686e-01 1.72579099e-01 3.69127517e-01 1.94630872e-01\n",
      "  1.50527325e-01 1.47651007e-01 1.01629914e-01 3.25982742e-01\n",
      "  3.50910834e-01 3.93096836e-02 8.86864813e-01 2.95302013e-01\n",
      "  4.97890700e+00 1.17545542e+00 8.52348993e-01 1.94630872e-01\n",
      "  4.16107383e-01 1.53403643e-01 1.02588686e-01 2.66538830e-01\n",
      "  3.97890700e-01 2.06136146e-01 5.27325024e-02 4.41035475e-02\n",
      "  4.15148610e-01 2.67497603e-01 1.16011505e-01 7.38255034e-02\n",
      "  7.09491850e-02]\n",
      " [6.05064416e-01 5.37094625e-01 4.33585073e-01 2.89204798e-01\n",
      "  2.64326966e-01 2.72767659e-01 2.16348290e-01 2.62105731e-01\n",
      "  1.72367837e-01 3.96712572e-01 8.62283430e-01 1.51710351e+00\n",
      "  3.55841848e-01 2.92758774e-01 7.45446468e-01 6.50821857e-01\n",
      "  1.40648601e+00 1.67925367e-01 2.55708574e+00 9.37805420e-01\n",
      "  6.68591737e-01 4.32696579e-01 1.40382052e-01 3.50955131e-02\n",
      "  2.66814749e+00 2.82096846e-01 4.97556641e-01 6.92136828e-01\n",
      "  6.61928032e-01 5.49089294e-01 1.83474012e-01 1.58596179e-01\n",
      "  6.25499778e-01 2.77210129e-01 3.38071968e-01 3.83829409e-01\n",
      "  5.77521102e-02]\n",
      " [3.63338789e-01 3.73977087e-01 2.44680851e-01 1.89852700e-01\n",
      "  1.80032733e-01 1.60392799e-01 1.86579378e-01 8.26513912e-02\n",
      "  9.90180033e-02 1.26841244e-01 6.79214403e-01 1.87397709e-01\n",
      "  2.27495908e-01 2.25859247e-01 1.00654664e-01 4.61047463e+00\n",
      "  3.72340426e-01 4.25531915e-02 9.60720131e-01 3.37970540e-01\n",
      "  5.09001637e-01 4.31260229e-01 1.11292962e-01 2.70049100e-02\n",
      "  6.17021277e-01 2.98690671e-01 1.00654664e-01 4.46808511e-01\n",
      "  6.35024550e-01 2.32405892e-01 1.05564648e-01 9.00163666e-02\n",
      "  2.47954173e-01 1.49754501e-01 1.17021277e-01 5.97381342e-02\n",
      "  7.52864157e-02]]\n"
     ]
    }
   ],
   "source": [
    "print(kmeans.cluster_centers_)  "
   ]
  },
  {
   "cell_type": "markdown",
   "metadata": {},
   "source": [
    "# Step 4- Evaluating model performance"
   ]
  },
  {
   "cell_type": "code",
   "execution_count": 40,
   "metadata": {},
   "outputs": [
    {
     "name": "stdout",
     "output_type": "stream",
     "text": [
      "[0 3 0 ... 0 0 0]\n"
     ]
    }
   ],
   "source": [
    "y_km = kmeans.fit_predict(teens_new_proof)\n",
    "print(y_km)"
   ]
  },
  {
   "cell_type": "code",
   "execution_count": 38,
   "metadata": {},
   "outputs": [
    {
     "name": "stdout",
     "output_type": "stream",
     "text": [
      "Número de clusters: \n",
      "[0 1 2 3 4]\n"
     ]
    }
   ],
   "source": [
    "cluster = np.unique(y_km)\n",
    "print('Número de clusters: ')\n",
    "print(cluster)\n"
   ]
  },
  {
   "cell_type": "code",
   "execution_count": 37,
   "metadata": {},
   "outputs": [
    {
     "name": "stdout",
     "output_type": "stream",
     "text": [
      "[[    0 25481]\n",
      " [    1     1]\n",
      " [    2  1043]\n",
      " [    3  2253]\n",
      " [    4  1222]]\n"
     ]
    }
   ],
   "source": [
    "# Elements in each cluster\n",
    "unique, counts = np.unique(y_km, return_counts=True)\n",
    "print (np.asarray((unique, counts)).T)"
   ]
  },
  {
   "cell_type": "code",
   "execution_count": 62,
   "metadata": {},
   "outputs": [
    {
     "data": {
      "image/png": "[encoded data removed]",
      "text/plain": [
       "<Figure size 1080x360 with 1 Axes>"
      ]
     },
     "metadata": {
      "needs_background": "light"
     },
     "output_type": "display_data"
    }
   ],
   "source": [
    "# Elbow method gives us an idea on what a good k number of clusters would be based on the sum of squared distance (SSE) between data points and their assigned clusters’ centroids\n",
    "kmeans_per_k = [KMeans(n_clusters=k, random_state=42).fit(teens_new_proof) for k in range(1, 10)]\n",
    "inertias = [model.inertia_ for model in kmeans_per_k]\n",
    "\n",
    "plt.figure(figsize=(15, 5))\n",
    "plt.plot(range(1, 10), inertias, \"bo-\")\n",
    "plt.xlabel(\"$k$\", fontsize=14)\n",
    "plt.ylabel(\"Inertia\", fontsize=14)\n",
    "plt.show()"
   ]
  },
  {
   "cell_type": "code",
   "execution_count": 69,
   "metadata": {},
   "outputs": [
    {
     "data": {
      "image/png": "[encoded data removed]",
      "text/plain": [
       "<Figure size 1080x360 with 1 Axes>"
      ]
     },
     "metadata": {
      "needs_background": "light"
     },
     "output_type": "display_data"
    }
   ],
   "source": [
    "# Silhouette analysis can be used to determine the degree of separation between clusters. \n",
    "# If it is 0 –> the sample is very close to the neighboring clusters.\n",
    "# If it is 1 –> the sample is far away from the neighboring clusters.\n",
    "# If it is -1 –> the sample is assigned to the wrong clusters.  \n",
    "\n",
    "silhouette_scores = [silhouette_score(teens_new_proof, model.labels_) for model in kmeans_per_k[1:]]\n",
    "plt.figure(figsize=(15, 5))\n",
    "plt.plot(range(2, 10), silhouette_scores, \"bo-\")\n",
    "plt.xlabel(\"$k$\", fontsize=14)\n",
    "plt.ylabel(\"Silhouette score\", fontsize=14)\n",
    "plt.show()"
   ]
  },
  {
   "cell_type": "code",
   "execution_count": 79,
   "metadata": {},
   "outputs": [
    {
     "data": {
      "image/png": "[encoded data removed]",
      "text/plain": [
       "<Figure size 792x648 with 4 Axes>"
      ]
     },
     "metadata": {
      "needs_background": "light"
     },
     "output_type": "display_data"
    }
   ],
   "source": [
    "plt.figure(figsize=(11, 9))\n",
    "\n",
    "for k in (2, 3, 4, 5):\n",
    "    plt.subplot(2, 2, k - 1)\n",
    "    \n",
    "    y_pred = kmeans_per_k[k - 1].labels_\n",
    "    silhouette_coefficients = silhouette_samples(teens_new_proof, y_pred)\n",
    "\n",
    "    padding = len(teens_new_proof) // 30\n",
    "    pos = padding\n",
    "    ticks = []\n",
    "\n",
    "    # Get silhouette samples\n",
    "    silhouette_vals = silhouette_samples(teens_new_proof, labels)\n",
    "\n",
    "    # Silhouette plot\n",
    "    for i in range(k):\n",
    "        coeffs = silhouette_coefficients[y_pred == i]\n",
    "        coeffs.sort()\n",
    "        \n",
    "        plt.fill_betweenx(np.arange(pos, pos + len(coeffs)), 0, coeffs, alpha=0.7)\n",
    "        ticks.append(pos + len(coeffs) // 2)\n",
    "        pos += len(coeffs) + padding\n",
    "        \n",
    "    plt.gca().yaxis.set_major_locator(FixedLocator(ticks))\n",
    "    plt.gca().yaxis.set_major_formatter(FixedFormatter(range(k)))\n",
    "    if k in (1, 2):\n",
    "        plt.ylabel(\"Cluster\")\n",
    "    \n",
    "    if k in (4, 5):\n",
    "        plt.gca().set_xticks([-0.1, 0, 0.2, 0.4, 0.6, 0.8, 1])\n",
    "        plt.xlabel(\"Silhouette Coefficient\")\n",
    "    else:\n",
    "        plt.tick_params(labelbottom=False)\n",
    "\n",
    "    plt.axvline(x=silhouette_scores[k - 2], color=\"red\", linestyle=\"--\")\n",
    "    plt.title(\"$k={}$\".format(k), fontsize=16)\n",
    "\n",
    "plt.show()\n",
    "    "
   ]
  },
  {
   "cell_type": "markdown",
   "metadata": {},
   "source": [
    "# Step 5- Improving model performance"
   ]
  },
  {
   "cell_type": "code",
   "execution_count": 49,
   "metadata": {},
   "outputs": [
    {
     "name": "stdout",
     "output_type": "stream",
     "text": [
      "    gradyear        age  friends  basketball  football  soccer  softball  \\\n",
      "0       2006  18.982000        7           0         0       0         0   \n",
      "1       2006  18.801000        0           0         1       0         0   \n",
      "2       2006  18.335000       69           0         1       0         0   \n",
      "3       2006  18.875000        0           0         0       0         0   \n",
      "4       2006  18.995000       10           0         0       0         0   \n",
      "5       2006  18.655858      142           0         0       0         0   \n",
      "6       2006  18.930000       72           0         0       0         0   \n",
      "7       2006  18.322000       17           0         0       0         1   \n",
      "8       2006  19.055000       52           0         0       0         0   \n",
      "9       2006  18.708000       39           0         0       0         0   \n",
      "10      2006  18.543000        8           0         0       0         0   \n",
      "11      2006  19.463000       21           0         1       0         0   \n",
      "12      2006  18.097000       87           0         0       0         0   \n",
      "13      2006  18.655858        0           0         0       0         0   \n",
      "14      2006  18.398000        0           0         0       0         0   \n",
      "15      2006  18.655858        0           0         0       0         0   \n",
      "16      2006  18.655858      135           0         0       0         0   \n",
      "17      2006  18.987000       26           0         0       2         0   \n",
      "18      2006  17.158000       27           1         1       0         0   \n",
      "19      2006  18.497000      123           0         0       0         0   \n",
      "20      2006  18.738000       35           0         0       0         0   \n",
      "21      2006  19.296000        0           0         0       0         0   \n",
      "22      2006  18.752000        8           1         0       1         0   \n",
      "23      2006  19.036000       74           1         0       0         0   \n",
      "24      2006  19.039000        0           0         0       1         0   \n",
      "25      2006  19.020000       33           0         0       0         0   \n",
      "26      2006  18.655858        0           0         0       0         0   \n",
      "27      2006  18.426000        0           0         0       0         0   \n",
      "28      2006  19.266000       14           0         0       1         0   \n",
      "29      2006  18.278000        7           0         0       0         0   \n",
      "30      2006  18.793000        1           0         0       0         0   \n",
      "31      2006  18.524000       61           3         3       0         0   \n",
      "32      2006  18.683000       41           0         0       0         0   \n",
      "33      2006  19.072000       43           1         0       0         0   \n",
      "34      2006  18.655858        0           0         0       0         1   \n",
      "\n",
      "    volleyball  swimming  cheerleading  ...  clothes  hollister  abercrombie  \\\n",
      "0            0         0             0  ...        0          0            0   \n",
      "1            0         0             0  ...        0          0            0   \n",
      "2            0         0             0  ...        0          0            0   \n",
      "3            0         0             0  ...        0          0            0   \n",
      "4            0         0             0  ...        0          0            0   \n",
      "5            0         0             0  ...        0          0            0   \n",
      "6            0         0             0  ...        0          2            0   \n",
      "7            0         0             0  ...        0          0            0   \n",
      "8            0         0             0  ...        0          0            0   \n",
      "9            0         0             0  ...        0          0            0   \n",
      "10           0         0             0  ...        0          0            0   \n",
      "11           0         0             0  ...        0          0            0   \n",
      "12           0         0             0  ...        0          0            0   \n",
      "13           0         0             0  ...        0          0            0   \n",
      "14           0         0             0  ...        1          0            0   \n",
      "15           0         0             0  ...        0          0            0   \n",
      "16           0         0             0  ...        0          0            0   \n",
      "17           0         0             0  ...        0          0            0   \n",
      "18           0         0             0  ...        0          0            0   \n",
      "19           0         0             1  ...        0          1            1   \n",
      "20           0         0             0  ...        0          1            2   \n",
      "21           0         0             0  ...        0          0            1   \n",
      "22           0         0             0  ...        0          0            0   \n",
      "23           1         0             0  ...        0          0            0   \n",
      "24           0         0             0  ...        0          0            0   \n",
      "25           0         0             0  ...        0          0            0   \n",
      "26           0         0             0  ...        0          0            0   \n",
      "27           0         0             0  ...        0          0            0   \n",
      "28           0         0             2  ...        0          0            0   \n",
      "29           0         0             0  ...        0          0            0   \n",
      "30           0         0             0  ...        0          0            0   \n",
      "31           2         0             0  ...        1          0            0   \n",
      "32           0         0             0  ...        0          0            0   \n",
      "33           0         0             0  ...        0          0            0   \n",
      "34           0         0             0  ...        0          0            0   \n",
      "\n",
      "    die  death  drunk  drugs  Femenino  Sin genero  cluster  \n",
      "0     0      0      0      0         0           0        0  \n",
      "1     0      0      0      0         1           0        3  \n",
      "2     0      1      0      0         0           0        0  \n",
      "3     0      0      0      0         1           0        0  \n",
      "4     0      0      1      1         0           1        3  \n",
      "5     0      0      1      0         1           0        0  \n",
      "6     0      0      0      0         1           0        0  \n",
      "7     0      0      0      0         0           0        0  \n",
      "8     0      0      0      0         1           0        0  \n",
      "9     0      0      0      0         1           0        2  \n",
      "10    0      0      0      0         1           0        0  \n",
      "11    0      0      0      0         1           0        0  \n",
      "12    0      0      0      0         1           0        0  \n",
      "13    0      0      0      0         0           1        0  \n",
      "14    0      0      0      0         1           0        0  \n",
      "15    0      0      0      0         0           1        0  \n",
      "16    0      0      0      0         0           1        0  \n",
      "17    0      0      0      0         1           0        0  \n",
      "18    0      0      0      0         1           0        0  \n",
      "19    0      0      0      0         1           0        0  \n",
      "20    0      0      0      0         1           0        0  \n",
      "21    0      0      0      0         0           0        0  \n",
      "22    0      0      0      0         1           0        0  \n",
      "23    0      0      0      0         1           0        2  \n",
      "24    0      0      0      0         1           0        0  \n",
      "25    0      0      0      0         0           0        0  \n",
      "26    0      0      0      0         1           0        0  \n",
      "27    2      0      1      0         0           0        2  \n",
      "28    1      0      0      0         1           0        0  \n",
      "29    0      0      0      0         1           0        4  \n",
      "30    0      2      2      0         1           0        0  \n",
      "31    0      0      0      0         1           0        0  \n",
      "32    0      0      0      0         1           0        0  \n",
      "33    0      0      0      0         0           0        0  \n",
      "34    2      0      0      0         1           0        0  \n",
      "\n",
      "[35 rows x 42 columns]\n"
     ]
    }
   ],
   "source": [
    "# Add the column cluster ti de data set in order to see which cluster each user has been assigned\n",
    "teens_new['cluster'] = y_km\n",
    "print(teens_new.head(35))"
   ]
  },
  {
   "cell_type": "markdown",
   "metadata": {},
   "source": [
    "Look at the demographic characteristics of the clusters overall"
   ]
  },
  {
   "cell_type": "code",
   "execution_count": 48,
   "metadata": {},
   "outputs": [
    {
     "name": "stdout",
     "output_type": "stream",
     "text": [
      "0    25481\n",
      "3     2253\n",
      "4     1222\n",
      "2     1043\n",
      "1        1\n",
      "Name: cluster, dtype: int64\n",
      "cluster\n",
      "0    17.256701\n",
      "1    18.119000\n",
      "2    17.382370\n",
      "3    17.062312\n",
      "4    17.031469\n",
      "Name: age, dtype: float64\n"
     ]
    }
   ],
   "source": [
    "group = teens_new.groupby('cluster')\n",
    "#print(group.head(5))\n",
    "groupmed = group['age'].mean()\n",
    "print(groupmed.head(5))"
   ]
  },
  {
   "cell_type": "code",
   "execution_count": 47,
   "metadata": {},
   "outputs": [
    {
     "name": "stdout",
     "output_type": "stream",
     "text": [
      "0    25481\n",
      "3     2253\n",
      "4     1222\n",
      "2     1043\n",
      "1        1\n",
      "Name: cluster, dtype: int64\n",
      "cluster\n",
      "0    0.719320\n",
      "1    1.000000\n",
      "2    0.761266\n",
      "3    0.834443\n",
      "4    0.859247\n",
      "Name: Femenino, dtype: float64\n"
     ]
    }
   ],
   "source": [
    "group = teens_new.groupby('cluster')\n",
    "#print(group.head(5))\n",
    "groupmed = group['Femenino'].mean()\n",
    "print(groupmed.head(5))"
   ]
  },
  {
   "cell_type": "code",
   "execution_count": 46,
   "metadata": {},
   "outputs": [
    {
     "name": "stdout",
     "output_type": "stream",
     "text": [
      "0    25481\n",
      "3     2253\n",
      "4     1222\n",
      "2     1043\n",
      "1        1\n",
      "Name: cluster, dtype: int64\n",
      "cluster\n",
      "0    29.402496\n",
      "1    44.000000\n",
      "2    35.225312\n",
      "3    32.899245\n",
      "4    37.048282\n",
      "Name: friends, dtype: float64\n"
     ]
    }
   ],
   "source": [
    "group = teens_new.groupby('cluster')\n",
    "#print(group.head(5))\n",
    "groupmed = group['friends'].mean()\n",
    "print(groupmed.head(5))"
   ]
  }
 ],
 "metadata": {
  "kernelspec": {
   "display_name": "Python 3",
   "language": "python",
   "name": "python3"
  },
  "language_info": {
   "codemirror_mode": {
    "name": "ipython",
    "version": 3
   },
   "file_extension": ".py",
   "mimetype": "text/x-python",
   "name": "python",
   "nbconvert_exporter": "python",
   "pygments_lexer": "ipython3",
   "version": "3.6.8"
  }
 },
 "nbformat": 4,
 "nbformat_minor": 2
}
